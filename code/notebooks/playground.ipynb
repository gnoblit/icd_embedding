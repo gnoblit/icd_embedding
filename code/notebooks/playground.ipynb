{
 "cells": [
  {
   "cell_type": "code",
   "execution_count": 1,
   "metadata": {},
   "outputs": [
    {
     "ename": "",
     "evalue": "",
     "output_type": "error",
     "traceback": [
      "\u001b[1;31mThe Kernel crashed while executing code in the current cell or a previous cell. \n",
      "\u001b[1;31mPlease review the code in the cell(s) to identify a possible cause of the failure. \n",
      "\u001b[1;31mClick <a href='https://aka.ms/vscodeJupyterKernelCrash'>here</a> for more info. \n",
      "\u001b[1;31mView Jupyter <a href='command:jupyter.viewOutput'>log</a> for further details."
     ]
    }
   ],
   "source": [
    "import numpy as np\n",
    "import polars as pl\n",
    "import matplotlib.pyplot as plt\n",
    "import seaborn as sns\n",
    "\n",
    "df = pl.read_csv('/home/gnoblit/takehome/codametrix/data/clean/triplet_data.csv')\n",
    "#pos_df = pl.read_ndjson('/home/gnoblit/takehome/codametrix/data/clean/positive_train_data.ndjson')\n",
    "#neg_df = pl.read_ndjson('/home/gnoblit/takehome/codametrix/data/clean/negative_train_data.ndjson')"
   ]
  },
  {
   "cell_type": "code",
   "execution_count": 9,
   "metadata": {},
   "outputs": [
    {
     "name": "stdout",
     "output_type": "stream",
     "text": [
      "['code_anchor', 'description_anchor', 'code_positive', 'description_positive', 'code_negative', 'description_negative']\n"
     ]
    },
    {
     "ename": "",
     "evalue": "",
     "output_type": "error",
     "traceback": [
      "\u001b[1;31mThe Kernel crashed while executing code in the current cell or a previous cell. \n",
      "\u001b[1;31mPlease review the code in the cell(s) to identify a possible cause of the failure. \n",
      "\u001b[1;31mClick <a href='https://aka.ms/vscodeJupyterKernelCrash'>here</a> for more info. \n",
      "\u001b[1;31mView Jupyter <a href='command:jupyter.viewOutput'>log</a> for further details."
     ]
    }
   ],
   "source": [
    "# df = df.with_columns(\n",
    "#         pl.all().replace({'':None})\n",
    "#     ) \n",
    "\n",
    "print(df.head())"
   ]
  },
  {
   "cell_type": "code",
   "execution_count": 3,
   "metadata": {},
   "outputs": [],
   "source": [
    "# l = []\n",
    "# for a in df.iter_rows(named=True):\n",
    "#     l_temp = [a['code'], a['code']]\n",
    "#     l_temp.sort()\n",
    "#     l.append(l_temp)"
   ]
  },
  {
   "cell_type": "code",
   "execution_count": null,
   "metadata": {},
   "outputs": [],
   "source": []
  },
  {
   "cell_type": "code",
   "execution_count": 6,
   "metadata": {},
   "outputs": [
    {
     "name": "stdout",
     "output_type": "stream",
     "text": [
      "join done (60581898, 5)\n",
      "['code', 'category', 'description', 'code_right', 'description_right']\n",
      "filter done: (60485112, 4)\n",
      "done with list: (60485112, 5)\n",
      "done adding list\n",
      "done with unique: (60485112, 6)\n"
     ]
    }
   ],
   "source": [
    "def join_dfs(df, cols: list, join_term: str):\n",
    "    \"\"\"Function joins df subsets of cols columns on the join_term and returns unique rows\"\"\"\n",
    "    \n",
    "    df = df.select(cols)\n",
    "    \n",
    "    clone = df.select(cols).clone()\n",
    "    \n",
    "    df = df.lazy().join(\n",
    "        clone.lazy(),\n",
    "        how='left',\n",
    "        on=join_term\n",
    "    ).collect(streaming=True)\n",
    "    del clone\n",
    "    print(f'join done {df.shape}')\n",
    "    print(df.columns)\n",
    "    \n",
    "    df = df.filter(~(pl.col('description').eq(pl.col('description_right'))))\n",
    "    df = df.drop(join_term)\n",
    "    print(f'filter done: {df.shape}')\n",
    "    \n",
    "    df = df.with_columns(\n",
    "        pl.Series('codes', ' ', dtype=pl.String)\n",
    "    )\n",
    "\n",
    "    for a in df.iter_rows(named=True):\n",
    "        l_temp = list(a['code'], a['code_right'])\n",
    "        l_temp.sort()\n",
    "        print(l_temp)\n",
    "        a['codes'] = '-'.join(l_temp)\n",
    "        print(a['codes'])\n",
    "\n",
    "    print(f'done with list: {df.shape}')\n",
    "\n",
    "    df = df.with_columns(\n",
    "        positive=pl.lit(True))\n",
    "    print('done adding list')\n",
    "    \n",
    "    #df = df.unique(subset='codes')\n",
    "    print(f'done with unique: {df.shape}')\n",
    "    df = df.sort('code')\n",
    "\n",
    "    return df\n",
    "\n",
    "laterality_cols = ['code', 'category', 'description']\n",
    "positives = join_dfs(df, laterality_cols, 'category')"
   ]
  },
  {
   "cell_type": "code",
   "execution_count": 7,
   "metadata": {},
   "outputs": [
    {
     "name": "stdout",
     "output_type": "stream",
     "text": [
      "(60485112, 6)\n"
     ]
    },
    {
     "data": {
      "text/html": [
       "<div><style>\n",
       ".dataframe > thead > tr,\n",
       ".dataframe > tbody > tr {\n",
       "  text-align: right;\n",
       "  white-space: pre-wrap;\n",
       "}\n",
       "</style>\n",
       "<small>shape: (5, 6)</small><table border=\"1\" class=\"dataframe\"><thead><tr><th>code</th><th>description</th><th>code_right</th><th>description_right</th><th>codes</th><th>positive</th></tr><tr><td>str</td><td>str</td><td>str</td><td>str</td><td>str</td><td>bool</td></tr></thead><tbody><tr><td>&quot;A00&quot;</td><td>&quot;Cholera&quot;</td><td>&quot;A000&quot;</td><td>&quot;Cholera due to Vibrio cholerae…</td><td>&quot; &quot;</td><td>true</td></tr><tr><td>&quot;A00&quot;</td><td>&quot;Cholera&quot;</td><td>&quot;A001&quot;</td><td>&quot;Cholera due to Vibrio cholerae…</td><td>&quot; &quot;</td><td>true</td></tr><tr><td>&quot;A00&quot;</td><td>&quot;Cholera&quot;</td><td>&quot;A009&quot;</td><td>&quot;Cholera, unspecified&quot;</td><td>&quot; &quot;</td><td>true</td></tr><tr><td>&quot;A000&quot;</td><td>&quot;Cholera due to Vibrio cholerae…</td><td>&quot;A00&quot;</td><td>&quot;Cholera&quot;</td><td>&quot; &quot;</td><td>true</td></tr><tr><td>&quot;A000&quot;</td><td>&quot;Cholera due to Vibrio cholerae…</td><td>&quot;A001&quot;</td><td>&quot;Cholera due to Vibrio cholerae…</td><td>&quot; &quot;</td><td>true</td></tr></tbody></table></div>"
      ],
      "text/plain": [
       "shape: (5, 6)\n",
       "┌──────┬───────────────────────┬────────────┬───────────────────────────────────┬───────┬──────────┐\n",
       "│ code ┆ description           ┆ code_right ┆ description_right                 ┆ codes ┆ positive │\n",
       "│ ---  ┆ ---                   ┆ ---        ┆ ---                               ┆ ---   ┆ ---      │\n",
       "│ str  ┆ str                   ┆ str        ┆ str                               ┆ str   ┆ bool     │\n",
       "╞══════╪═══════════════════════╪════════════╪═══════════════════════════════════╪═══════╪══════════╡\n",
       "│ A00  ┆ Cholera               ┆ A000       ┆ Cholera due to Vibrio cholerae…   ┆       ┆ true     │\n",
       "│ A00  ┆ Cholera               ┆ A001       ┆ Cholera due to Vibrio cholerae…   ┆       ┆ true     │\n",
       "│ A00  ┆ Cholera               ┆ A009       ┆ Cholera, unspecified              ┆       ┆ true     │\n",
       "│ A000 ┆ Cholera due to Vibrio ┆ A00        ┆ Cholera                           ┆       ┆ true     │\n",
       "│      ┆ cholerae…             ┆            ┆                                   ┆       ┆          │\n",
       "│ A000 ┆ Cholera due to Vibrio ┆ A001       ┆ Cholera due to Vibrio cholerae…   ┆       ┆ true     │\n",
       "│      ┆ cholerae…             ┆            ┆                                   ┆       ┆          │\n",
       "└──────┴───────────────────────┴────────────┴───────────────────────────────────┴───────┴──────────┘"
      ]
     },
     "execution_count": 7,
     "metadata": {},
     "output_type": "execute_result"
    }
   ],
   "source": [
    "print(positives.shape)\n",
    "positives.sort('code').head()"
   ]
  },
  {
   "cell_type": "code",
   "execution_count": null,
   "metadata": {},
   "outputs": [],
   "source": [
    "print(pos_df.shape)\n",
    "pos_df['code'].unique().sort()"
   ]
  },
  {
   "cell_type": "code",
   "execution_count": null,
   "metadata": {},
   "outputs": [],
   "source": [
    "print(neg_df.shape)\n",
    "neg_df.head()"
   ]
  },
  {
   "cell_type": "code",
   "execution_count": null,
   "metadata": {},
   "outputs": [],
   "source": [
    "pos_df.columns, neg_df.columns"
   ]
  },
  {
   "cell_type": "code",
   "execution_count": null,
   "metadata": {},
   "outputs": [],
   "source": [
    "pos_df.shape, neg_df.shape"
   ]
  },
  {
   "cell_type": "code",
   "execution_count": null,
   "metadata": {},
   "outputs": [],
   "source": []
  },
  {
   "cell_type": "code",
   "execution_count": null,
   "metadata": {},
   "outputs": [],
   "source": [
    "def join_dfs(df, cols, join_term):\n",
    "    df = df.select(cols).join(\n",
    "        df.select(cols),\n",
    "        how='left',\n",
    "        on=join_term\n",
    "    ).filter(~(pl.col('description').eq(pl.col('description_right')))).drop(join_term)\n",
    "\n",
    "    df = df.with_columns(\n",
    "        codes = pl.concat_list('code', 'code_right')\n",
    "    )\n",
    "    df = df.with_columns(\n",
    "        codes = pl.col('codes').list.sort()\n",
    "    )\n",
    "\n",
    "    df = df.unique('codes').sort('code')\n",
    "\n",
    "    return df\n",
    "\n",
    "laterality_cols = ['code', 'up_to_laterality', 'description']\n",
    "laterality_df = join_dfs(df, laterality_cols, 'up_to_laterality')\n"
   ]
  },
  {
   "cell_type": "code",
   "execution_count": null,
   "metadata": {},
   "outputs": [],
   "source": [
    "laterality_df.head()"
   ]
  },
  {
   "cell_type": "code",
   "execution_count": null,
   "metadata": {},
   "outputs": [],
   "source": [
    "df['code'][0]"
   ]
  },
  {
   "cell_type": "code",
   "execution_count": null,
   "metadata": {},
   "outputs": [],
   "source": [
    "def gen_negatives(df, master_df, n: int):\n",
    "    \"\"\"\n",
    "    Subset negatives not section.\n",
    "    Randomly draw n\n",
    "    Label as negatives\n",
    "    \"\"\"\n",
    "    negatives = []\n",
    "\n",
    "    for iter_, el_ in enumerate(df.iter_rows(named=True)):\n",
    "        subset_df = master_df.filter(\n",
    "            pl.col('section') != el_['code'][:1]\n",
    "        ).sample(n)\n",
    "    \n",
    "        subset_df = subset_df.select(['code', 'section', 'description'])\n",
    "        subset_df = subset_df.rename(\n",
    "            {\n",
    "                'code':'code_right',\n",
    "                'description': 'description_right'\n",
    "            }\n",
    "        )\n",
    "        subset_df = subset_df.with_columns(\n",
    "            positive=pl.lit(False),\n",
    "            code=pl.lit(el_['code']),\n",
    "            description=pl.lit(el_['description'])\n",
    "        )\n",
    "        \n",
    "        negatives.append(subset_df.drop('section'))\n",
    "    return negatives"
   ]
  },
  {
   "cell_type": "code",
   "execution_count": null,
   "metadata": {},
   "outputs": [],
   "source": [
    "t = gen_negatives(df=laterality_df[:3], master_df=df, n=2)"
   ]
  },
  {
   "cell_type": "code",
   "execution_count": null,
   "metadata": {},
   "outputs": [],
   "source": [
    "t"
   ]
  },
  {
   "cell_type": "code",
   "execution_count": null,
   "metadata": {},
   "outputs": [],
   "source": [
    "df.head()"
   ]
  },
  {
   "cell_type": "code",
   "execution_count": null,
   "metadata": {},
   "outputs": [],
   "source": [
    "df.with_columns(\n",
    "    pl.col('code').str.slice(0,1).alias('section')\n",
    ")"
   ]
  },
  {
   "cell_type": "code",
   "execution_count": null,
   "metadata": {},
   "outputs": [],
   "source": [
    "train_df.head()"
   ]
  },
  {
   "cell_type": "code",
   "execution_count": null,
   "metadata": {},
   "outputs": [],
   "source": [
    "train_df = train_df.with_columns(\n",
    "    test = pl.concat_str(\n",
    "        pl.col('code') + ' ' + pl.col('description')\n",
    "    ),\n",
    "    \n",
    ")"
   ]
  },
  {
   "cell_type": "code",
   "execution_count": null,
   "metadata": {},
   "outputs": [],
   "source": [
    "train_df = train_df.with_columns(\n",
    "    test_right = pl.concat_str(\n",
    "        pl.col('code_right') + ' ' + pl.col('description_right')\n",
    "    ),\n",
    "    \n",
    ")"
   ]
  },
  {
   "cell_type": "code",
   "execution_count": null,
   "metadata": {},
   "outputs": [],
   "source": [
    "train_df.head()"
   ]
  },
  {
   "cell_type": "code",
   "execution_count": null,
   "metadata": {},
   "outputs": [],
   "source": [
    "\n",
    "test= pl.read_ndjson(\n",
    "            '/home/gnoblit/takehome/codametrix/data/clean/raw_icd10.ndjson'\n",
    "        ).with_columns(pl.col(pl.String).replace('', None))\n",
    "test.slice(42448, 5)"
   ]
  },
  {
   "cell_type": "code",
   "execution_count": null,
   "metadata": {},
   "outputs": [],
   "source": [
    "test2 = test.with_columns(\n",
    "    pl.when(\n",
    "        pl.col('up_to_laterality').eq(pl.col('up_to_location'))\n",
    "    )\n",
    "    .then(None)\n",
    "    .otherwise(pl.col('up_to_laterality'))\n",
    "    .alias('test')\n",
    ")\n",
    "\n",
    "test2.slice(42448, 5)"
   ]
  },
  {
   "cell_type": "code",
   "execution_count": null,
   "metadata": {},
   "outputs": [],
   "source": [
    "location_cols = ['code', 'up_to_location', 'description']\n",
    "up_to_location_df = df.select(location_cols).join(\n",
    "        df.select(location_cols),\n",
    "        how='left',\n",
    "        on='up_to_location'\n",
    "    ).filter(~(pl.col('description').eq(pl.col('description_right'))))\n",
    "up_to_location_df"
   ]
  },
  {
   "cell_type": "code",
   "execution_count": null,
   "metadata": {},
   "outputs": [],
   "source": []
  },
  {
   "cell_type": "code",
   "execution_count": null,
   "metadata": {},
   "outputs": [],
   "source": []
  },
  {
   "cell_type": "code",
   "execution_count": null,
   "metadata": {},
   "outputs": [],
   "source": [
    "df['up_to_laterality'].unique()"
   ]
  },
  {
   "cell_type": "code",
   "execution_count": null,
   "metadata": {},
   "outputs": [],
   "source": [
    "laterality_cols = ['code', 'up_to_laterality', 'description']\n",
    "up_to_laterality_df = df.select(laterality_cols).join(\n",
    "        df.select(laterality_cols),\n",
    "        how='left',\n",
    "        on='up_to_laterality'\n",
    "    ).filter(~(pl.col('description').eq(pl.col('description_right'))))\n",
    "up_to_laterality_df"
   ]
  },
  {
   "cell_type": "code",
   "execution_count": null,
   "metadata": {},
   "outputs": [],
   "source": [
    "category_cols = ['code', 'category', 'description']\n",
    "category_df = df.select(category_cols).join(\n",
    "    df.select(category_cols),\n",
    "    how='left',\n",
    "    on='category'\n",
    ").filter(~(pl.col('description').eq(pl.col('description_right'))))\n",
    "category_df"
   ]
  },
  {
   "cell_type": "code",
   "execution_count": null,
   "metadata": {},
   "outputs": [],
   "source": [
    "df = df.with_columns(\n",
    "    pl.col('path').str.split('-').alias('path_split')\n",
    ")\n",
    "df = df.with_columns(\n",
    "    pl.col('path_split')[:-1]\n",
    ")"
   ]
  },
  {
   "cell_type": "code",
   "execution_count": null,
   "metadata": {},
   "outputs": [],
   "source": [
    "df.h"
   ]
  },
  {
   "cell_type": "code",
   "execution_count": null,
   "metadata": {},
   "outputs": [],
   "source": [
    "df.select(['code', 'category', 'description'])"
   ]
  },
  {
   "cell_type": "code",
   "execution_count": null,
   "metadata": {},
   "outputs": [],
   "source": [
    "df.select(['code', 'category', 'description']).join(\n",
    "    df.select(['code', 'category', 'description']),\n",
    "    how='left',\n",
    "    on='category'\n",
    ")"
   ]
  },
  {
   "cell_type": "code",
   "execution_count": null,
   "metadata": {},
   "outputs": [],
   "source": [
    "df.filter(pl.col('code')=='Z189')['description'].to_list()"
   ]
  },
  {
   "cell_type": "code",
   "execution_count": null,
   "metadata": {},
   "outputs": [],
   "source": []
  }
 ],
 "metadata": {
  "kernelspec": {
   "display_name": "codametrix_venv",
   "language": "python",
   "name": "python3"
  },
  "language_info": {
   "codemirror_mode": {
    "name": "ipython",
    "version": 3
   },
   "file_extension": ".py",
   "mimetype": "text/x-python",
   "name": "python",
   "nbconvert_exporter": "python",
   "pygments_lexer": "ipython3",
   "version": "3.10.12"
  }
 },
 "nbformat": 4,
 "nbformat_minor": 2
}
