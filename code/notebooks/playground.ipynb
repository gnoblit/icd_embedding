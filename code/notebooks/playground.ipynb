{
 "cells": [
  {
   "cell_type": "code",
   "execution_count": 3,
   "metadata": {},
   "outputs": [],
   "source": [
    "import numpy as np\n",
    "import polars as pl\n",
    "import matplotlib.pyplot as plt\n",
    "import seaborn as sns\n",
    "\n",
    "\n",
    "df = pl.read_ndjson(\n",
    "            '/home/gnoblit/takehome/codametrix/data/clean/train_data.ndjson'\n",
    ")\n",
    "\n",
    "df = df.with_columns(\n",
    "    pl.all().replace({'':None})\n",
    ")"
   ]
  },
  {
   "cell_type": "code",
   "execution_count": 5,
   "metadata": {},
   "outputs": [],
   "source": [
    "def join_dfs(df, cols, join_term):\n",
    "    df = df.select(cols).join(\n",
    "        df.select(cols),\n",
    "        how='left',\n",
    "        on=join_term\n",
    "    ).filter(~(pl.col('description').eq(pl.col('description_right')))).drop(join_term)\n",
    "\n",
    "    df = df.with_columns(\n",
    "        codes = pl.concat_list('code', 'code_right')\n",
    "    )\n",
    "    df = df.with_columns(\n",
    "        codes = pl.col('codes').list.sort()\n",
    "    )\n",
    "\n",
    "    df = df.unique('codes').sort('code')\n",
    "\n",
    "    return df\n",
    "\n",
    "laterality_cols = ['code', 'up_to_laterality', 'description']\n",
    "laterality_df = join_dfs(df, laterality_cols, 'up_to_laterality')\n"
   ]
  },
  {
   "cell_type": "code",
   "execution_count": 23,
   "metadata": {},
   "outputs": [
    {
     "data": {
      "text/html": [
       "<div><style>\n",
       ".dataframe > thead > tr,\n",
       ".dataframe > tbody > tr {\n",
       "  text-align: right;\n",
       "  white-space: pre-wrap;\n",
       "}\n",
       "</style>\n",
       "<small>shape: (5, 5)</small><table border=\"1\" class=\"dataframe\"><thead><tr><th>code</th><th>description</th><th>code_right</th><th>description_right</th><th>codes</th></tr><tr><td>str</td><td>str</td><td>str</td><td>str</td><td>list[str]</td></tr></thead><tbody><tr><td>&quot;C44102&quot;</td><td>&quot;Unspecified malignant neoplasm…</td><td>&quot;C441021&quot;</td><td>&quot;Unspecified malignant neoplasm…</td><td>[&quot;C44102&quot;, &quot;C441021&quot;]</td></tr><tr><td>&quot;C44102&quot;</td><td>&quot;Unspecified malignant neoplasm…</td><td>&quot;C441022&quot;</td><td>&quot;Unspecified malignant neoplasm…</td><td>[&quot;C44102&quot;, &quot;C441022&quot;]</td></tr><tr><td>&quot;C441021&quot;</td><td>&quot;Unspecified malignant neoplasm…</td><td>&quot;C441022&quot;</td><td>&quot;Unspecified malignant neoplasm…</td><td>[&quot;C441021&quot;, &quot;C441022&quot;]</td></tr><tr><td>&quot;C44109&quot;</td><td>&quot;Unspecified malignant neoplasm…</td><td>&quot;C441091&quot;</td><td>&quot;Unspecified malignant neoplasm…</td><td>[&quot;C44109&quot;, &quot;C441091&quot;]</td></tr><tr><td>&quot;C44109&quot;</td><td>&quot;Unspecified malignant neoplasm…</td><td>&quot;C441092&quot;</td><td>&quot;Unspecified malignant neoplasm…</td><td>[&quot;C44109&quot;, &quot;C441092&quot;]</td></tr></tbody></table></div>"
      ],
      "text/plain": [
       "shape: (5, 5)\n",
       "┌─────────┬─────────────────────────┬────────────┬────────────────────────┬────────────────────────┐\n",
       "│ code    ┆ description             ┆ code_right ┆ description_right      ┆ codes                  │\n",
       "│ ---     ┆ ---                     ┆ ---        ┆ ---                    ┆ ---                    │\n",
       "│ str     ┆ str                     ┆ str        ┆ str                    ┆ list[str]              │\n",
       "╞═════════╪═════════════════════════╪════════════╪════════════════════════╪════════════════════════╡\n",
       "│ C44102  ┆ Unspecified malignant   ┆ C441021    ┆ Unspecified malignant  ┆ [\"C44102\", \"C441021\"]  │\n",
       "│         ┆ neoplasm…               ┆            ┆ neoplasm…              ┆                        │\n",
       "│ C44102  ┆ Unspecified malignant   ┆ C441022    ┆ Unspecified malignant  ┆ [\"C44102\", \"C441022\"]  │\n",
       "│         ┆ neoplasm…               ┆            ┆ neoplasm…              ┆                        │\n",
       "│ C441021 ┆ Unspecified malignant   ┆ C441022    ┆ Unspecified malignant  ┆ [\"C441021\", \"C441022\"] │\n",
       "│         ┆ neoplasm…               ┆            ┆ neoplasm…              ┆                        │\n",
       "│ C44109  ┆ Unspecified malignant   ┆ C441091    ┆ Unspecified malignant  ┆ [\"C44109\", \"C441091\"]  │\n",
       "│         ┆ neoplasm…               ┆            ┆ neoplasm…              ┆                        │\n",
       "│ C44109  ┆ Unspecified malignant   ┆ C441092    ┆ Unspecified malignant  ┆ [\"C44109\", \"C441092\"]  │\n",
       "│         ┆ neoplasm…               ┆            ┆ neoplasm…              ┆                        │\n",
       "└─────────┴─────────────────────────┴────────────┴────────────────────────┴────────────────────────┘"
      ]
     },
     "execution_count": 23,
     "metadata": {},
     "output_type": "execute_result"
    }
   ],
   "source": [
    "laterality_df.head()"
   ]
  },
  {
   "cell_type": "code",
   "execution_count": 45,
   "metadata": {},
   "outputs": [
    {
     "data": {
      "text/plain": [
       "'A00'"
      ]
     },
     "execution_count": 45,
     "metadata": {},
     "output_type": "execute_result"
    }
   ],
   "source": [
    "df['code'][0]"
   ]
  },
  {
   "cell_type": "code",
   "execution_count": 76,
   "metadata": {},
   "outputs": [],
   "source": [
    "def gen_negatives(df, master_df, n: int):\n",
    "    \"\"\"\n",
    "    Subset negatives not section.\n",
    "    Randomly draw n\n",
    "    Label as negatives\n",
    "    \"\"\"\n",
    "    negatives = []\n",
    "\n",
    "    for iter_, el_ in enumerate(df.iter_rows(named=True)):\n",
    "        subset_df = master_df.filter(\n",
    "            pl.col('section') != el_['code'][:1]\n",
    "        ).sample(n)\n",
    "    \n",
    "        subset_df = subset_df.select(['code', 'section', 'description'])\n",
    "        subset_df = subset_df.rename(\n",
    "            {\n",
    "                'code':'code_right',\n",
    "                'description': 'description_right'\n",
    "            }\n",
    "        )\n",
    "        subset_df = subset_df.with_columns(\n",
    "            positive=pl.lit(False),\n",
    "            code=pl.lit(el_['code']),\n",
    "            description=pl.lit(el_['description'])\n",
    "        )\n",
    "        \n",
    "        negatives.append(subset_df.drop('section'))\n",
    "    return negatives"
   ]
  },
  {
   "cell_type": "code",
   "execution_count": 77,
   "metadata": {},
   "outputs": [],
   "source": [
    "t = gen_negatives(df=laterality_df[:3], master_df=df, n=2)"
   ]
  },
  {
   "cell_type": "code",
   "execution_count": 78,
   "metadata": {},
   "outputs": [
    {
     "data": {
      "text/plain": [
       "[shape: (2, 5)\n",
       " ┌────────────┬─────────────────────────────┬──────────┬────────┬───────────────────────────────────┐\n",
       " │ code_right ┆ description_right           ┆ positive ┆ code   ┆ description                       │\n",
       " │ ---        ┆ ---                         ┆ ---      ┆ ---    ┆ ---                               │\n",
       " │ str        ┆ str                         ┆ bool     ┆ str    ┆ str                               │\n",
       " ╞════════════╪═════════════════════════════╪══════════╪════════╪═══════════════════════════════════╡\n",
       " │ S63497     ┆ Traumatic rupture of other  ┆ false    ┆ C44102 ┆ Unspecified malignant neoplasm…   │\n",
       " │            ┆ lig…                        ┆          ┆        ┆                                   │\n",
       " │ T5492XS    ┆ Toxic effect of unspecified ┆ false    ┆ C44102 ┆ Unspecified malignant neoplasm…   │\n",
       " │            ┆ co…                         ┆          ┆        ┆                                   │\n",
       " └────────────┴─────────────────────────────┴──────────┴────────┴───────────────────────────────────┘,\n",
       " shape: (2, 5)\n",
       " ┌────────────┬─────────────────────────────────┬──────────┬────────┬───────────────────────┐\n",
       " │ code_right ┆ description_right               ┆ positive ┆ code   ┆ description           │\n",
       " │ ---        ┆ ---                             ┆ ---      ┆ ---    ┆ ---                   │\n",
       " │ str        ┆ str                             ┆ bool     ┆ str    ┆ str                   │\n",
       " ╞════════════╪═════════════════════════════════╪══════════╪════════╪═══════════════════════╡\n",
       " │ T50B96     ┆ Underdosing of other viral vac… ┆ false    ┆ C44102 ┆ Unspecified malignant │\n",
       " │            ┆                                 ┆          ┆        ┆ neoplasm…             │\n",
       " │ S72059F    ┆ Unspecified fracture of head o… ┆ false    ┆ C44102 ┆ Unspecified malignant │\n",
       " │            ┆                                 ┆          ┆        ┆ neoplasm…             │\n",
       " └────────────┴─────────────────────────────────┴──────────┴────────┴───────────────────────┘,\n",
       " shape: (2, 5)\n",
       " ┌────────────┬───────────────────────────┬──────────┬─────────┬─────────────────────────────────┐\n",
       " │ code_right ┆ description_right         ┆ positive ┆ code    ┆ description                     │\n",
       " │ ---        ┆ ---                       ┆ ---      ┆ ---     ┆ ---                             │\n",
       " │ str        ┆ str                       ┆ bool     ┆ str     ┆ str                             │\n",
       " ╞════════════╪═══════════════════════════╪══════════╪═════════╪═════════════════════════════════╡\n",
       " │ M25531     ┆ Pain in right wrist       ┆ false    ┆ C441021 ┆ Unspecified malignant neoplasm… │\n",
       " │ T48994     ┆ Poisoning by other agents ┆ false    ┆ C441021 ┆ Unspecified malignant neoplasm… │\n",
       " │            ┆ prim…                     ┆          ┆         ┆                                 │\n",
       " └────────────┴───────────────────────────┴──────────┴─────────┴─────────────────────────────────┘]"
      ]
     },
     "execution_count": 78,
     "metadata": {},
     "output_type": "execute_result"
    }
   ],
   "source": [
    "t"
   ]
  },
  {
   "cell_type": "code",
   "execution_count": 7,
   "metadata": {},
   "outputs": [
    {
     "data": {
      "text/html": [
       "<div><style>\n",
       ".dataframe > thead > tr,\n",
       ".dataframe > tbody > tr {\n",
       "  text-align: right;\n",
       "  white-space: pre-wrap;\n",
       "}\n",
       "</style>\n",
       "<small>shape: (5, 16)</small><table border=\"1\" class=\"dataframe\"><thead><tr><th>path</th><th>code</th><th>category</th><th>details</th><th>section</th><th>part</th><th>root_operation</th><th>etiology</th><th>location</th><th>laterality</th><th>extension</th><th>up_to_etiology</th><th>up_to_location</th><th>up_to_laterality</th><th>description</th><th>ancestors</th></tr><tr><td>str</td><td>str</td><td>str</td><td>str</td><td>str</td><td>str</td><td>str</td><td>str</td><td>str</td><td>str</td><td>str</td><td>str</td><td>str</td><td>str</td><td>str</td><td>str</td></tr></thead><tbody><tr><td>&quot;A-A00&quot;</td><td>&quot;A00&quot;</td><td>&quot;A00&quot;</td><td>null</td><td>&quot;A&quot;</td><td>&quot;0&quot;</td><td>&quot;0&quot;</td><td>null</td><td>null</td><td>null</td><td>null</td><td>&quot;A00&quot;</td><td>null</td><td>null</td><td>&quot;Cholera&quot;</td><td>null</td></tr><tr><td>&quot;A-A00-A000&quot;</td><td>&quot;A000&quot;</td><td>&quot;A00&quot;</td><td>&quot;0&quot;</td><td>&quot;A&quot;</td><td>&quot;0&quot;</td><td>&quot;0&quot;</td><td>&quot;0&quot;</td><td>null</td><td>null</td><td>null</td><td>&quot;A000&quot;</td><td>null</td><td>null</td><td>&quot;Cholera due to Vibrio cholerae…</td><td>&quot;A00&quot;</td></tr><tr><td>&quot;A-A00-A001&quot;</td><td>&quot;A001&quot;</td><td>&quot;A00&quot;</td><td>&quot;1&quot;</td><td>&quot;A&quot;</td><td>&quot;0&quot;</td><td>&quot;0&quot;</td><td>&quot;1&quot;</td><td>null</td><td>null</td><td>null</td><td>&quot;A001&quot;</td><td>null</td><td>null</td><td>&quot;Cholera due to Vibrio cholerae…</td><td>&quot;A00&quot;</td></tr><tr><td>&quot;A-A00-A009&quot;</td><td>&quot;A009&quot;</td><td>&quot;A00&quot;</td><td>&quot;9&quot;</td><td>&quot;A&quot;</td><td>&quot;0&quot;</td><td>&quot;0&quot;</td><td>&quot;9&quot;</td><td>null</td><td>null</td><td>null</td><td>&quot;A009&quot;</td><td>null</td><td>null</td><td>&quot;Cholera, unspecified&quot;</td><td>&quot;A00&quot;</td></tr><tr><td>&quot;A-A01&quot;</td><td>&quot;A01&quot;</td><td>&quot;A01&quot;</td><td>null</td><td>&quot;A&quot;</td><td>&quot;0&quot;</td><td>&quot;1&quot;</td><td>null</td><td>null</td><td>null</td><td>null</td><td>&quot;A01&quot;</td><td>null</td><td>null</td><td>&quot;Typhoid and paratyphoid fevers&quot;</td><td>null</td></tr></tbody></table></div>"
      ],
      "text/plain": [
       "shape: (5, 16)\n",
       "┌────────────┬──────┬──────────┬─────────┬───┬─────────────┬─────────────┬─────────────┬───────────┐\n",
       "│ path       ┆ code ┆ category ┆ details ┆ … ┆ up_to_locat ┆ up_to_later ┆ description ┆ ancestors │\n",
       "│ ---        ┆ ---  ┆ ---      ┆ ---     ┆   ┆ ion         ┆ ality       ┆ ---         ┆ ---       │\n",
       "│ str        ┆ str  ┆ str      ┆ str     ┆   ┆ ---         ┆ ---         ┆ str         ┆ str       │\n",
       "│            ┆      ┆          ┆         ┆   ┆ str         ┆ str         ┆             ┆           │\n",
       "╞════════════╪══════╪══════════╪═════════╪═══╪═════════════╪═════════════╪═════════════╪═══════════╡\n",
       "│ A-A00      ┆ A00  ┆ A00      ┆ null    ┆ … ┆ null        ┆ null        ┆ Cholera     ┆ null      │\n",
       "│ A-A00-A000 ┆ A000 ┆ A00      ┆ 0       ┆ … ┆ null        ┆ null        ┆ Cholera due ┆ A00       │\n",
       "│            ┆      ┆          ┆         ┆   ┆             ┆             ┆ to Vibrio   ┆           │\n",
       "│            ┆      ┆          ┆         ┆   ┆             ┆             ┆ cholerae…   ┆           │\n",
       "│ A-A00-A001 ┆ A001 ┆ A00      ┆ 1       ┆ … ┆ null        ┆ null        ┆ Cholera due ┆ A00       │\n",
       "│            ┆      ┆          ┆         ┆   ┆             ┆             ┆ to Vibrio   ┆           │\n",
       "│            ┆      ┆          ┆         ┆   ┆             ┆             ┆ cholerae…   ┆           │\n",
       "│ A-A00-A009 ┆ A009 ┆ A00      ┆ 9       ┆ … ┆ null        ┆ null        ┆ Cholera,    ┆ A00       │\n",
       "│            ┆      ┆          ┆         ┆   ┆             ┆             ┆ unspecified ┆           │\n",
       "│ A-A01      ┆ A01  ┆ A01      ┆ null    ┆ … ┆ null        ┆ null        ┆ Typhoid and ┆ null      │\n",
       "│            ┆      ┆          ┆         ┆   ┆             ┆             ┆ paratyphoid ┆           │\n",
       "│            ┆      ┆          ┆         ┆   ┆             ┆             ┆ fevers      ┆           │\n",
       "└────────────┴──────┴──────────┴─────────┴───┴─────────────┴─────────────┴─────────────┴───────────┘"
      ]
     },
     "execution_count": 7,
     "metadata": {},
     "output_type": "execute_result"
    }
   ],
   "source": [
    "df.head()"
   ]
  },
  {
   "cell_type": "code",
   "execution_count": 13,
   "metadata": {},
   "outputs": [
    {
     "data": {
      "text/html": [
       "<div><style>\n",
       ".dataframe > thead > tr,\n",
       ".dataframe > tbody > tr {\n",
       "  text-align: right;\n",
       "  white-space: pre-wrap;\n",
       "}\n",
       "</style>\n",
       "<small>shape: (95_358, 16)</small><table border=\"1\" class=\"dataframe\"><thead><tr><th>path</th><th>code</th><th>category</th><th>details</th><th>section</th><th>part</th><th>root_operation</th><th>etiology</th><th>location</th><th>laterality</th><th>extension</th><th>up_to_etiology</th><th>up_to_location</th><th>up_to_laterality</th><th>description</th><th>ancestors</th></tr><tr><td>str</td><td>str</td><td>str</td><td>str</td><td>str</td><td>str</td><td>str</td><td>str</td><td>str</td><td>str</td><td>str</td><td>str</td><td>str</td><td>str</td><td>str</td><td>str</td></tr></thead><tbody><tr><td>&quot;A-A00&quot;</td><td>&quot;A00&quot;</td><td>&quot;A00&quot;</td><td>null</td><td>&quot;A&quot;</td><td>&quot;0&quot;</td><td>&quot;0&quot;</td><td>null</td><td>null</td><td>null</td><td>null</td><td>&quot;A00&quot;</td><td>null</td><td>null</td><td>&quot;Cholera&quot;</td><td>null</td></tr><tr><td>&quot;A-A00-A000&quot;</td><td>&quot;A000&quot;</td><td>&quot;A00&quot;</td><td>&quot;0&quot;</td><td>&quot;A&quot;</td><td>&quot;0&quot;</td><td>&quot;0&quot;</td><td>&quot;0&quot;</td><td>null</td><td>null</td><td>null</td><td>&quot;A000&quot;</td><td>null</td><td>null</td><td>&quot;Cholera due to Vibrio cholerae…</td><td>&quot;A00&quot;</td></tr><tr><td>&quot;A-A00-A001&quot;</td><td>&quot;A001&quot;</td><td>&quot;A00&quot;</td><td>&quot;1&quot;</td><td>&quot;A&quot;</td><td>&quot;0&quot;</td><td>&quot;0&quot;</td><td>&quot;1&quot;</td><td>null</td><td>null</td><td>null</td><td>&quot;A001&quot;</td><td>null</td><td>null</td><td>&quot;Cholera due to Vibrio cholerae…</td><td>&quot;A00&quot;</td></tr><tr><td>&quot;A-A00-A009&quot;</td><td>&quot;A009&quot;</td><td>&quot;A00&quot;</td><td>&quot;9&quot;</td><td>&quot;A&quot;</td><td>&quot;0&quot;</td><td>&quot;0&quot;</td><td>&quot;9&quot;</td><td>null</td><td>null</td><td>null</td><td>&quot;A009&quot;</td><td>null</td><td>null</td><td>&quot;Cholera, unspecified&quot;</td><td>&quot;A00&quot;</td></tr><tr><td>&quot;A-A01&quot;</td><td>&quot;A01&quot;</td><td>&quot;A01&quot;</td><td>null</td><td>&quot;A&quot;</td><td>&quot;0&quot;</td><td>&quot;1&quot;</td><td>null</td><td>null</td><td>null</td><td>null</td><td>&quot;A01&quot;</td><td>null</td><td>null</td><td>&quot;Typhoid and paratyphoid fevers&quot;</td><td>null</td></tr><tr><td>&hellip;</td><td>&hellip;</td><td>&hellip;</td><td>&hellip;</td><td>&hellip;</td><td>&hellip;</td><td>&hellip;</td><td>&hellip;</td><td>&hellip;</td><td>&hellip;</td><td>&hellip;</td><td>&hellip;</td><td>&hellip;</td><td>&hellip;</td><td>&hellip;</td><td>&hellip;</td></tr><tr><td>&quot;Z-Z99-Z998-Z9981&quot;</td><td>&quot;Z9981&quot;</td><td>&quot;Z99&quot;</td><td>&quot;81&quot;</td><td>&quot;Z&quot;</td><td>&quot;9&quot;</td><td>&quot;9&quot;</td><td>&quot;8&quot;</td><td>&quot;1&quot;</td><td>null</td><td>null</td><td>&quot;Z998&quot;</td><td>&quot;Z9981&quot;</td><td>null</td><td>&quot;Dependence on supplemental oxy…</td><td>&quot;Z99-Z998&quot;</td></tr><tr><td>&quot;Z-Z99-Z998-Z9989&quot;</td><td>&quot;Z9989&quot;</td><td>&quot;Z99&quot;</td><td>&quot;89&quot;</td><td>&quot;Z&quot;</td><td>&quot;9&quot;</td><td>&quot;9&quot;</td><td>&quot;8&quot;</td><td>&quot;9&quot;</td><td>null</td><td>null</td><td>&quot;Z998&quot;</td><td>&quot;Z9989&quot;</td><td>null</td><td>&quot;Dependence on other enabling m…</td><td>&quot;Z99-Z998&quot;</td></tr><tr><td>&quot;U-U07&quot;</td><td>&quot;U07&quot;</td><td>&quot;U07&quot;</td><td>null</td><td>&quot;U&quot;</td><td>&quot;0&quot;</td><td>&quot;7&quot;</td><td>null</td><td>null</td><td>null</td><td>null</td><td>&quot;U07&quot;</td><td>null</td><td>null</td><td>&quot;Emergency use of U07&quot;</td><td>null</td></tr><tr><td>&quot;U-U07-U070&quot;</td><td>&quot;U070&quot;</td><td>&quot;U07&quot;</td><td>&quot;0&quot;</td><td>&quot;U&quot;</td><td>&quot;0&quot;</td><td>&quot;7&quot;</td><td>&quot;0&quot;</td><td>null</td><td>null</td><td>null</td><td>&quot;U070&quot;</td><td>null</td><td>null</td><td>&quot;Vaping-related disorder&quot;</td><td>&quot;U07&quot;</td></tr><tr><td>&quot;U-U07-U071&quot;</td><td>&quot;U071&quot;</td><td>&quot;U07&quot;</td><td>&quot;1&quot;</td><td>&quot;U&quot;</td><td>&quot;0&quot;</td><td>&quot;7&quot;</td><td>&quot;1&quot;</td><td>null</td><td>null</td><td>null</td><td>&quot;U071&quot;</td><td>null</td><td>null</td><td>&quot;COVID-19&quot;</td><td>&quot;U07&quot;</td></tr></tbody></table></div>"
      ],
      "text/plain": [
       "shape: (95_358, 16)\n",
       "┌─────────────┬───────┬──────────┬─────────┬───┬─────────────┬────────────┬────────────┬───────────┐\n",
       "│ path        ┆ code  ┆ category ┆ details ┆ … ┆ up_to_locat ┆ up_to_late ┆ descriptio ┆ ancestors │\n",
       "│ ---         ┆ ---   ┆ ---      ┆ ---     ┆   ┆ ion         ┆ rality     ┆ n          ┆ ---       │\n",
       "│ str         ┆ str   ┆ str      ┆ str     ┆   ┆ ---         ┆ ---        ┆ ---        ┆ str       │\n",
       "│             ┆       ┆          ┆         ┆   ┆ str         ┆ str        ┆ str        ┆           │\n",
       "╞═════════════╪═══════╪══════════╪═════════╪═══╪═════════════╪════════════╪════════════╪═══════════╡\n",
       "│ A-A00       ┆ A00   ┆ A00      ┆ null    ┆ … ┆ null        ┆ null       ┆ Cholera    ┆ null      │\n",
       "│ A-A00-A000  ┆ A000  ┆ A00      ┆ 0       ┆ … ┆ null        ┆ null       ┆ Cholera    ┆ A00       │\n",
       "│             ┆       ┆          ┆         ┆   ┆             ┆            ┆ due to     ┆           │\n",
       "│             ┆       ┆          ┆         ┆   ┆             ┆            ┆ Vibrio     ┆           │\n",
       "│             ┆       ┆          ┆         ┆   ┆             ┆            ┆ cholerae…  ┆           │\n",
       "│ A-A00-A001  ┆ A001  ┆ A00      ┆ 1       ┆ … ┆ null        ┆ null       ┆ Cholera    ┆ A00       │\n",
       "│             ┆       ┆          ┆         ┆   ┆             ┆            ┆ due to     ┆           │\n",
       "│             ┆       ┆          ┆         ┆   ┆             ┆            ┆ Vibrio     ┆           │\n",
       "│             ┆       ┆          ┆         ┆   ┆             ┆            ┆ cholerae…  ┆           │\n",
       "│ A-A00-A009  ┆ A009  ┆ A00      ┆ 9       ┆ … ┆ null        ┆ null       ┆ Cholera,   ┆ A00       │\n",
       "│             ┆       ┆          ┆         ┆   ┆             ┆            ┆ unspecifie ┆           │\n",
       "│             ┆       ┆          ┆         ┆   ┆             ┆            ┆ d          ┆           │\n",
       "│ A-A01       ┆ A01   ┆ A01      ┆ null    ┆ … ┆ null        ┆ null       ┆ Typhoid    ┆ null      │\n",
       "│             ┆       ┆          ┆         ┆   ┆             ┆            ┆ and paraty ┆           │\n",
       "│             ┆       ┆          ┆         ┆   ┆             ┆            ┆ phoid      ┆           │\n",
       "│             ┆       ┆          ┆         ┆   ┆             ┆            ┆ fevers     ┆           │\n",
       "│ …           ┆ …     ┆ …        ┆ …       ┆ … ┆ …           ┆ …          ┆ …          ┆ …         │\n",
       "│ Z-Z99-Z998- ┆ Z9981 ┆ Z99      ┆ 81      ┆ … ┆ Z9981       ┆ null       ┆ Dependence ┆ Z99-Z998  │\n",
       "│ Z9981       ┆       ┆          ┆         ┆   ┆             ┆            ┆ on supplem ┆           │\n",
       "│             ┆       ┆          ┆         ┆   ┆             ┆            ┆ ental oxy… ┆           │\n",
       "│ Z-Z99-Z998- ┆ Z9989 ┆ Z99      ┆ 89      ┆ … ┆ Z9989       ┆ null       ┆ Dependence ┆ Z99-Z998  │\n",
       "│ Z9989       ┆       ┆          ┆         ┆   ┆             ┆            ┆ on other   ┆           │\n",
       "│             ┆       ┆          ┆         ┆   ┆             ┆            ┆ enabling   ┆           │\n",
       "│             ┆       ┆          ┆         ┆   ┆             ┆            ┆ m…         ┆           │\n",
       "│ U-U07       ┆ U07   ┆ U07      ┆ null    ┆ … ┆ null        ┆ null       ┆ Emergency  ┆ null      │\n",
       "│             ┆       ┆          ┆         ┆   ┆             ┆            ┆ use of U07 ┆           │\n",
       "│ U-U07-U070  ┆ U070  ┆ U07      ┆ 0       ┆ … ┆ null        ┆ null       ┆ Vaping-rel ┆ U07       │\n",
       "│             ┆       ┆          ┆         ┆   ┆             ┆            ┆ ated       ┆           │\n",
       "│             ┆       ┆          ┆         ┆   ┆             ┆            ┆ disorder   ┆           │\n",
       "│ U-U07-U071  ┆ U071  ┆ U07      ┆ 1       ┆ … ┆ null        ┆ null       ┆ COVID-19   ┆ U07       │\n",
       "└─────────────┴───────┴──────────┴─────────┴───┴─────────────┴────────────┴────────────┴───────────┘"
      ]
     },
     "execution_count": 13,
     "metadata": {},
     "output_type": "execute_result"
    }
   ],
   "source": [
    "df.with_columns(\n",
    "    pl.col('code').str.slice(0,1).alias('section')\n",
    ")"
   ]
  },
  {
   "cell_type": "code",
   "execution_count": 3,
   "metadata": {},
   "outputs": [
    {
     "data": {
      "text/html": [
       "<div><style>\n",
       ".dataframe > thead > tr,\n",
       ".dataframe > tbody > tr {\n",
       "  text-align: right;\n",
       "  white-space: pre-wrap;\n",
       "}\n",
       "</style>\n",
       "<small>shape: (5, 4)</small><table border=\"1\" class=\"dataframe\"><thead><tr><th>code</th><th>description</th><th>code_right</th><th>description_right</th></tr><tr><td>str</td><td>str</td><td>str</td><td>str</td></tr></thead><tbody><tr><td>&quot;A000&quot;</td><td>&quot;Cholera due to Vibrio cholerae…</td><td>&quot;A00&quot;</td><td>&quot;Cholera&quot;</td></tr><tr><td>&quot;A001&quot;</td><td>&quot;Cholera due to Vibrio cholerae…</td><td>&quot;A00&quot;</td><td>&quot;Cholera&quot;</td></tr><tr><td>&quot;A009&quot;</td><td>&quot;Cholera, unspecified&quot;</td><td>&quot;A00&quot;</td><td>&quot;Cholera&quot;</td></tr><tr><td>&quot;A00&quot;</td><td>&quot;Cholera&quot;</td><td>&quot;A000&quot;</td><td>&quot;Cholera due to Vibrio cholerae…</td></tr><tr><td>&quot;A001&quot;</td><td>&quot;Cholera due to Vibrio cholerae…</td><td>&quot;A000&quot;</td><td>&quot;Cholera due to Vibrio cholerae…</td></tr></tbody></table></div>"
      ],
      "text/plain": [
       "shape: (5, 4)\n",
       "┌──────┬─────────────────────────────────┬────────────┬─────────────────────────────────┐\n",
       "│ code ┆ description                     ┆ code_right ┆ description_right               │\n",
       "│ ---  ┆ ---                             ┆ ---        ┆ ---                             │\n",
       "│ str  ┆ str                             ┆ str        ┆ str                             │\n",
       "╞══════╪═════════════════════════════════╪════════════╪═════════════════════════════════╡\n",
       "│ A000 ┆ Cholera due to Vibrio cholerae… ┆ A00        ┆ Cholera                         │\n",
       "│ A001 ┆ Cholera due to Vibrio cholerae… ┆ A00        ┆ Cholera                         │\n",
       "│ A009 ┆ Cholera, unspecified            ┆ A00        ┆ Cholera                         │\n",
       "│ A00  ┆ Cholera                         ┆ A000       ┆ Cholera due to Vibrio cholerae… │\n",
       "│ A001 ┆ Cholera due to Vibrio cholerae… ┆ A000       ┆ Cholera due to Vibrio cholerae… │\n",
       "└──────┴─────────────────────────────────┴────────────┴─────────────────────────────────┘"
      ]
     },
     "execution_count": 3,
     "metadata": {},
     "output_type": "execute_result"
    }
   ],
   "source": [
    "train_df.head()"
   ]
  },
  {
   "cell_type": "code",
   "execution_count": 3,
   "metadata": {},
   "outputs": [],
   "source": [
    "train_df = train_df.with_columns(\n",
    "    test = pl.concat_str(\n",
    "        pl.col('code') + ' ' + pl.col('description')\n",
    "    ),\n",
    "    \n",
    ")"
   ]
  },
  {
   "cell_type": "code",
   "execution_count": 4,
   "metadata": {},
   "outputs": [
    {
     "ename": "",
     "evalue": "",
     "output_type": "error",
     "traceback": [
      "\u001b[1;31mThe Kernel crashed while executing code in the current cell or a previous cell. \n",
      "\u001b[1;31mPlease review the code in the cell(s) to identify a possible cause of the failure. \n",
      "\u001b[1;31mClick <a href='https://aka.ms/vscodeJupyterKernelCrash'>here</a> for more info. \n",
      "\u001b[1;31mView Jupyter <a href='command:jupyter.viewOutput'>log</a> for further details."
     ]
    }
   ],
   "source": [
    "train_df = train_df.with_columns(\n",
    "    test_right = pl.concat_str(\n",
    "        pl.col('code_right') + ' ' + pl.col('description_right')\n",
    "    ),\n",
    "    \n",
    ")"
   ]
  },
  {
   "cell_type": "code",
   "execution_count": 3,
   "metadata": {},
   "outputs": [
    {
     "data": {
      "text/html": [
       "<div><style>\n",
       ".dataframe > thead > tr,\n",
       ".dataframe > tbody > tr {\n",
       "  text-align: right;\n",
       "  white-space: pre-wrap;\n",
       "}\n",
       "</style>\n",
       "<small>shape: (5, 4)</small><table border=\"1\" class=\"dataframe\"><thead><tr><th>code</th><th>description</th><th>code_right</th><th>description_right</th></tr><tr><td>str</td><td>str</td><td>str</td><td>str</td></tr></thead><tbody><tr><td>&quot;A00&quot;</td><td>&quot;Cholera&quot;</td><td>&quot;A000&quot;</td><td>&quot;Cholera due to Vibrio cholerae…</td></tr><tr><td>&quot;A00&quot;</td><td>&quot;Cholera&quot;</td><td>&quot;A001&quot;</td><td>&quot;Cholera due to Vibrio cholerae…</td></tr><tr><td>&quot;A00&quot;</td><td>&quot;Cholera&quot;</td><td>&quot;A009&quot;</td><td>&quot;Cholera, unspecified&quot;</td></tr><tr><td>&quot;A000&quot;</td><td>&quot;Cholera due to Vibrio cholerae…</td><td>&quot;A00&quot;</td><td>&quot;Cholera&quot;</td></tr><tr><td>&quot;A000&quot;</td><td>&quot;Cholera due to Vibrio cholerae…</td><td>&quot;A001&quot;</td><td>&quot;Cholera due to Vibrio cholerae…</td></tr></tbody></table></div>"
      ],
      "text/plain": [
       "shape: (5, 4)\n",
       "┌──────┬─────────────────────────────────┬────────────┬─────────────────────────────────┐\n",
       "│ code ┆ description                     ┆ code_right ┆ description_right               │\n",
       "│ ---  ┆ ---                             ┆ ---        ┆ ---                             │\n",
       "│ str  ┆ str                             ┆ str        ┆ str                             │\n",
       "╞══════╪═════════════════════════════════╪════════════╪═════════════════════════════════╡\n",
       "│ A00  ┆ Cholera                         ┆ A000       ┆ Cholera due to Vibrio cholerae… │\n",
       "│ A00  ┆ Cholera                         ┆ A001       ┆ Cholera due to Vibrio cholerae… │\n",
       "│ A00  ┆ Cholera                         ┆ A009       ┆ Cholera, unspecified            │\n",
       "│ A000 ┆ Cholera due to Vibrio cholerae… ┆ A00        ┆ Cholera                         │\n",
       "│ A000 ┆ Cholera due to Vibrio cholerae… ┆ A001       ┆ Cholera due to Vibrio cholerae… │\n",
       "└──────┴─────────────────────────────────┴────────────┴─────────────────────────────────┘"
      ]
     },
     "execution_count": 3,
     "metadata": {},
     "output_type": "execute_result"
    }
   ],
   "source": [
    "train_df.head()"
   ]
  },
  {
   "cell_type": "code",
   "execution_count": 16,
   "metadata": {},
   "outputs": [
    {
     "data": {
      "text/html": [
       "<div><style>\n",
       ".dataframe > thead > tr,\n",
       ".dataframe > tbody > tr {\n",
       "  text-align: right;\n",
       "  white-space: pre-wrap;\n",
       "}\n",
       "</style>\n",
       "<small>shape: (5, 16)</small><table border=\"1\" class=\"dataframe\"><thead><tr><th>path</th><th>code</th><th>category</th><th>details</th><th>section</th><th>part</th><th>root_operation</th><th>etiology</th><th>location</th><th>laterality</th><th>extension</th><th>up_to_etiology</th><th>up_to_location</th><th>up_to_laterality</th><th>description</th><th>ancestors</th></tr><tr><td>str</td><td>str</td><td>str</td><td>str</td><td>str</td><td>str</td><td>str</td><td>str</td><td>str</td><td>str</td><td>str</td><td>str</td><td>str</td><td>str</td><td>str</td><td>str</td></tr></thead><tbody><tr><td>&quot;S-S45-S453-S4531-S45319&quot;</td><td>&quot;S45319&quot;</td><td>&quot;S45&quot;</td><td>&quot;319&quot;</td><td>&quot;S&quot;</td><td>&quot;4&quot;</td><td>&quot;5&quot;</td><td>&quot;3&quot;</td><td>&quot;1&quot;</td><td>&quot;9&quot;</td><td>null</td><td>&quot;S453&quot;</td><td>&quot;S4531&quot;</td><td>&quot;S45319&quot;</td><td>&quot;Laceration of superficial vein…</td><td>&quot;S45-S453-S4531&quot;</td></tr><tr><td>&quot;S-S45-S453-S4531-S45319-S45319…</td><td>&quot;S45319A&quot;</td><td>&quot;S45&quot;</td><td>&quot;319A&quot;</td><td>&quot;S&quot;</td><td>&quot;4&quot;</td><td>&quot;5&quot;</td><td>&quot;3&quot;</td><td>&quot;1&quot;</td><td>&quot;9&quot;</td><td>&quot;A&quot;</td><td>&quot;S453&quot;</td><td>&quot;S4531&quot;</td><td>&quot;S45319&quot;</td><td>&quot;Laceration of superficial vein…</td><td>&quot;S45-S453-S4531-S45319&quot;</td></tr><tr><td>&quot;S-S45-S453-S4531-S45319-S45319…</td><td>&quot;S45319D&quot;</td><td>&quot;S45&quot;</td><td>&quot;319D&quot;</td><td>&quot;S&quot;</td><td>&quot;4&quot;</td><td>&quot;5&quot;</td><td>&quot;3&quot;</td><td>&quot;1&quot;</td><td>&quot;9&quot;</td><td>&quot;D&quot;</td><td>&quot;S453&quot;</td><td>&quot;S4531&quot;</td><td>&quot;S45319&quot;</td><td>&quot;Laceration of superficial vein…</td><td>&quot;S45-S453-S4531-S45319&quot;</td></tr><tr><td>&quot;S-S45-S453-S4531-S45319-S45319…</td><td>&quot;S45319S&quot;</td><td>&quot;S45&quot;</td><td>&quot;319S&quot;</td><td>&quot;S&quot;</td><td>&quot;4&quot;</td><td>&quot;5&quot;</td><td>&quot;3&quot;</td><td>&quot;1&quot;</td><td>&quot;9&quot;</td><td>&quot;S&quot;</td><td>&quot;S453&quot;</td><td>&quot;S4531&quot;</td><td>&quot;S45319&quot;</td><td>&quot;Laceration of superficial vein…</td><td>&quot;S45-S453-S4531-S45319&quot;</td></tr><tr><td>&quot;S-S45-S453-S4539&quot;</td><td>&quot;S4539&quot;</td><td>&quot;S45&quot;</td><td>&quot;39&quot;</td><td>&quot;S&quot;</td><td>&quot;4&quot;</td><td>&quot;5&quot;</td><td>&quot;3&quot;</td><td>&quot;9&quot;</td><td>null</td><td>null</td><td>&quot;S453&quot;</td><td>&quot;S4539&quot;</td><td>&quot;S4539&quot;</td><td>&quot;Other specified injury of supe…</td><td>&quot;S45-S453&quot;</td></tr></tbody></table></div>"
      ],
      "text/plain": [
       "shape: (5, 16)\n",
       "┌────────────┬─────────┬──────────┬─────────┬───┬────────────┬────────────┬────────────┬───────────┐\n",
       "│ path       ┆ code    ┆ category ┆ details ┆ … ┆ up_to_loca ┆ up_to_late ┆ descriptio ┆ ancestors │\n",
       "│ ---        ┆ ---     ┆ ---      ┆ ---     ┆   ┆ tion       ┆ rality     ┆ n          ┆ ---       │\n",
       "│ str        ┆ str     ┆ str      ┆ str     ┆   ┆ ---        ┆ ---        ┆ ---        ┆ str       │\n",
       "│            ┆         ┆          ┆         ┆   ┆ str        ┆ str        ┆ str        ┆           │\n",
       "╞════════════╪═════════╪══════════╪═════════╪═══╪════════════╪════════════╪════════════╪═══════════╡\n",
       "│ S-S45-S453 ┆ S45319  ┆ S45      ┆ 319     ┆ … ┆ S4531      ┆ S45319     ┆ Laceration ┆ S45-S453- │\n",
       "│ -S4531-S45 ┆         ┆          ┆         ┆   ┆            ┆            ┆ of superfi ┆ S4531     │\n",
       "│ 319        ┆         ┆          ┆         ┆   ┆            ┆            ┆ cial vein… ┆           │\n",
       "│ S-S45-S453 ┆ S45319A ┆ S45      ┆ 319A    ┆ … ┆ S4531      ┆ S45319     ┆ Laceration ┆ S45-S453- │\n",
       "│ -S4531-S45 ┆         ┆          ┆         ┆   ┆            ┆            ┆ of superfi ┆ S4531-S45 │\n",
       "│ 319-S45319 ┆         ┆          ┆         ┆   ┆            ┆            ┆ cial vein… ┆ 319       │\n",
       "│ …          ┆         ┆          ┆         ┆   ┆            ┆            ┆            ┆           │\n",
       "│ S-S45-S453 ┆ S45319D ┆ S45      ┆ 319D    ┆ … ┆ S4531      ┆ S45319     ┆ Laceration ┆ S45-S453- │\n",
       "│ -S4531-S45 ┆         ┆          ┆         ┆   ┆            ┆            ┆ of superfi ┆ S4531-S45 │\n",
       "│ 319-S45319 ┆         ┆          ┆         ┆   ┆            ┆            ┆ cial vein… ┆ 319       │\n",
       "│ …          ┆         ┆          ┆         ┆   ┆            ┆            ┆            ┆           │\n",
       "│ S-S45-S453 ┆ S45319S ┆ S45      ┆ 319S    ┆ … ┆ S4531      ┆ S45319     ┆ Laceration ┆ S45-S453- │\n",
       "│ -S4531-S45 ┆         ┆          ┆         ┆   ┆            ┆            ┆ of superfi ┆ S4531-S45 │\n",
       "│ 319-S45319 ┆         ┆          ┆         ┆   ┆            ┆            ┆ cial vein… ┆ 319       │\n",
       "│ …          ┆         ┆          ┆         ┆   ┆            ┆            ┆            ┆           │\n",
       "│ S-S45-S453 ┆ S4539   ┆ S45      ┆ 39      ┆ … ┆ S4539      ┆ S4539      ┆ Other      ┆ S45-S453  │\n",
       "│ -S4539     ┆         ┆          ┆         ┆   ┆            ┆            ┆ specified  ┆           │\n",
       "│            ┆         ┆          ┆         ┆   ┆            ┆            ┆ injury of  ┆           │\n",
       "│            ┆         ┆          ┆         ┆   ┆            ┆            ┆ supe…      ┆           │\n",
       "└────────────┴─────────┴──────────┴─────────┴───┴────────────┴────────────┴────────────┴───────────┘"
      ]
     },
     "execution_count": 16,
     "metadata": {},
     "output_type": "execute_result"
    }
   ],
   "source": [
    "\n",
    "test= pl.read_ndjson(\n",
    "            '/home/gnoblit/takehome/codametrix/data/clean/raw_icd10.ndjson'\n",
    "        ).with_columns(pl.col(pl.String).replace('', None))\n",
    "test.slice(42448, 5)"
   ]
  },
  {
   "cell_type": "code",
   "execution_count": 32,
   "metadata": {},
   "outputs": [
    {
     "data": {
      "text/html": [
       "<div><style>\n",
       ".dataframe > thead > tr,\n",
       ".dataframe > tbody > tr {\n",
       "  text-align: right;\n",
       "  white-space: pre-wrap;\n",
       "}\n",
       "</style>\n",
       "<small>shape: (5, 17)</small><table border=\"1\" class=\"dataframe\"><thead><tr><th>path</th><th>code</th><th>category</th><th>details</th><th>section</th><th>part</th><th>root_operation</th><th>etiology</th><th>location</th><th>laterality</th><th>extension</th><th>up_to_etiology</th><th>up_to_location</th><th>up_to_laterality</th><th>description</th><th>ancestors</th><th>test</th></tr><tr><td>str</td><td>str</td><td>str</td><td>str</td><td>str</td><td>str</td><td>str</td><td>str</td><td>str</td><td>str</td><td>str</td><td>str</td><td>str</td><td>str</td><td>str</td><td>str</td><td>str</td></tr></thead><tbody><tr><td>&quot;S-S45-S453-S4531-S45319&quot;</td><td>&quot;S45319&quot;</td><td>&quot;S45&quot;</td><td>&quot;319&quot;</td><td>&quot;S&quot;</td><td>&quot;4&quot;</td><td>&quot;5&quot;</td><td>&quot;3&quot;</td><td>&quot;1&quot;</td><td>&quot;9&quot;</td><td>null</td><td>&quot;S453&quot;</td><td>&quot;S4531&quot;</td><td>&quot;S45319&quot;</td><td>&quot;Laceration of superficial vein…</td><td>&quot;S45-S453-S4531&quot;</td><td>&quot;S45319&quot;</td></tr><tr><td>&quot;S-S45-S453-S4531-S45319-S45319…</td><td>&quot;S45319A&quot;</td><td>&quot;S45&quot;</td><td>&quot;319A&quot;</td><td>&quot;S&quot;</td><td>&quot;4&quot;</td><td>&quot;5&quot;</td><td>&quot;3&quot;</td><td>&quot;1&quot;</td><td>&quot;9&quot;</td><td>&quot;A&quot;</td><td>&quot;S453&quot;</td><td>&quot;S4531&quot;</td><td>&quot;S45319&quot;</td><td>&quot;Laceration of superficial vein…</td><td>&quot;S45-S453-S4531-S45319&quot;</td><td>&quot;S45319&quot;</td></tr><tr><td>&quot;S-S45-S453-S4531-S45319-S45319…</td><td>&quot;S45319D&quot;</td><td>&quot;S45&quot;</td><td>&quot;319D&quot;</td><td>&quot;S&quot;</td><td>&quot;4&quot;</td><td>&quot;5&quot;</td><td>&quot;3&quot;</td><td>&quot;1&quot;</td><td>&quot;9&quot;</td><td>&quot;D&quot;</td><td>&quot;S453&quot;</td><td>&quot;S4531&quot;</td><td>&quot;S45319&quot;</td><td>&quot;Laceration of superficial vein…</td><td>&quot;S45-S453-S4531-S45319&quot;</td><td>&quot;S45319&quot;</td></tr><tr><td>&quot;S-S45-S453-S4531-S45319-S45319…</td><td>&quot;S45319S&quot;</td><td>&quot;S45&quot;</td><td>&quot;319S&quot;</td><td>&quot;S&quot;</td><td>&quot;4&quot;</td><td>&quot;5&quot;</td><td>&quot;3&quot;</td><td>&quot;1&quot;</td><td>&quot;9&quot;</td><td>&quot;S&quot;</td><td>&quot;S453&quot;</td><td>&quot;S4531&quot;</td><td>&quot;S45319&quot;</td><td>&quot;Laceration of superficial vein…</td><td>&quot;S45-S453-S4531-S45319&quot;</td><td>&quot;S45319&quot;</td></tr><tr><td>&quot;S-S45-S453-S4539&quot;</td><td>&quot;S4539&quot;</td><td>&quot;S45&quot;</td><td>&quot;39&quot;</td><td>&quot;S&quot;</td><td>&quot;4&quot;</td><td>&quot;5&quot;</td><td>&quot;3&quot;</td><td>&quot;9&quot;</td><td>null</td><td>null</td><td>&quot;S453&quot;</td><td>&quot;S4539&quot;</td><td>&quot;S4539&quot;</td><td>&quot;Other specified injury of supe…</td><td>&quot;S45-S453&quot;</td><td>null</td></tr></tbody></table></div>"
      ],
      "text/plain": [
       "shape: (5, 17)\n",
       "┌─────────────┬─────────┬──────────┬─────────┬───┬─────────────┬─────────────┬────────────┬────────┐\n",
       "│ path        ┆ code    ┆ category ┆ details ┆ … ┆ up_to_later ┆ description ┆ ancestors  ┆ test   │\n",
       "│ ---         ┆ ---     ┆ ---      ┆ ---     ┆   ┆ ality       ┆ ---         ┆ ---        ┆ ---    │\n",
       "│ str         ┆ str     ┆ str      ┆ str     ┆   ┆ ---         ┆ str         ┆ str        ┆ str    │\n",
       "│             ┆         ┆          ┆         ┆   ┆ str         ┆             ┆            ┆        │\n",
       "╞═════════════╪═════════╪══════════╪═════════╪═══╪═════════════╪═════════════╪════════════╪════════╡\n",
       "│ S-S45-S453- ┆ S45319  ┆ S45      ┆ 319     ┆ … ┆ S45319      ┆ Laceration  ┆ S45-S453-S ┆ S45319 │\n",
       "│ S4531-S4531 ┆         ┆          ┆         ┆   ┆             ┆ of          ┆ 4531       ┆        │\n",
       "│ 9           ┆         ┆          ┆         ┆   ┆             ┆ superficial ┆            ┆        │\n",
       "│             ┆         ┆          ┆         ┆   ┆             ┆ vein…       ┆            ┆        │\n",
       "│ S-S45-S453- ┆ S45319A ┆ S45      ┆ 319A    ┆ … ┆ S45319      ┆ Laceration  ┆ S45-S453-S ┆ S45319 │\n",
       "│ S4531-S4531 ┆         ┆          ┆         ┆   ┆             ┆ of          ┆ 4531-S4531 ┆        │\n",
       "│ 9-S45319…   ┆         ┆          ┆         ┆   ┆             ┆ superficial ┆ 9          ┆        │\n",
       "│             ┆         ┆          ┆         ┆   ┆             ┆ vein…       ┆            ┆        │\n",
       "│ S-S45-S453- ┆ S45319D ┆ S45      ┆ 319D    ┆ … ┆ S45319      ┆ Laceration  ┆ S45-S453-S ┆ S45319 │\n",
       "│ S4531-S4531 ┆         ┆          ┆         ┆   ┆             ┆ of          ┆ 4531-S4531 ┆        │\n",
       "│ 9-S45319…   ┆         ┆          ┆         ┆   ┆             ┆ superficial ┆ 9          ┆        │\n",
       "│             ┆         ┆          ┆         ┆   ┆             ┆ vein…       ┆            ┆        │\n",
       "│ S-S45-S453- ┆ S45319S ┆ S45      ┆ 319S    ┆ … ┆ S45319      ┆ Laceration  ┆ S45-S453-S ┆ S45319 │\n",
       "│ S4531-S4531 ┆         ┆          ┆         ┆   ┆             ┆ of          ┆ 4531-S4531 ┆        │\n",
       "│ 9-S45319…   ┆         ┆          ┆         ┆   ┆             ┆ superficial ┆ 9          ┆        │\n",
       "│             ┆         ┆          ┆         ┆   ┆             ┆ vein…       ┆            ┆        │\n",
       "│ S-S45-S453- ┆ S4539   ┆ S45      ┆ 39      ┆ … ┆ S4539       ┆ Other       ┆ S45-S453   ┆ null   │\n",
       "│ S4539       ┆         ┆          ┆         ┆   ┆             ┆ specified   ┆            ┆        │\n",
       "│             ┆         ┆          ┆         ┆   ┆             ┆ injury of   ┆            ┆        │\n",
       "│             ┆         ┆          ┆         ┆   ┆             ┆ supe…       ┆            ┆        │\n",
       "└─────────────┴─────────┴──────────┴─────────┴───┴─────────────┴─────────────┴────────────┴────────┘"
      ]
     },
     "execution_count": 32,
     "metadata": {},
     "output_type": "execute_result"
    }
   ],
   "source": [
    "test2 = test.with_columns(\n",
    "    pl.when(\n",
    "        pl.col('up_to_laterality').eq(pl.col('up_to_location'))\n",
    "    )\n",
    "    .then(None)\n",
    "    .otherwise(pl.col('up_to_laterality'))\n",
    "    .alias('test')\n",
    ")\n",
    "\n",
    "test2.slice(42448, 5)"
   ]
  },
  {
   "cell_type": "code",
   "execution_count": 9,
   "metadata": {},
   "outputs": [
    {
     "data": {
      "text/html": [
       "<div><style>\n",
       ".dataframe > thead > tr,\n",
       ".dataframe > tbody > tr {\n",
       "  text-align: right;\n",
       "  white-space: pre-wrap;\n",
       "}\n",
       "</style>\n",
       "<small>shape: (1_893_164, 5)</small><table border=\"1\" class=\"dataframe\"><thead><tr><th>code</th><th>up_to_location</th><th>description</th><th>code_right</th><th>description_right</th></tr><tr><td>str</td><td>str</td><td>str</td><td>str</td><td>str</td></tr></thead><tbody><tr><td>&quot;B0801&quot;</td><td>&quot;B0801&quot;</td><td>&quot;Cowpox and vaccinia not from v…</td><td>&quot;B08010&quot;</td><td>&quot;Cowpox&quot;</td></tr><tr><td>&quot;B0801&quot;</td><td>&quot;B0801&quot;</td><td>&quot;Cowpox and vaccinia not from v…</td><td>&quot;B08011&quot;</td><td>&quot;Vaccinia not from vaccine&quot;</td></tr><tr><td>&quot;B08010&quot;</td><td>&quot;B0801&quot;</td><td>&quot;Cowpox&quot;</td><td>&quot;B0801&quot;</td><td>&quot;Cowpox and vaccinia not from v…</td></tr><tr><td>&quot;B08010&quot;</td><td>&quot;B0801&quot;</td><td>&quot;Cowpox&quot;</td><td>&quot;B08011&quot;</td><td>&quot;Vaccinia not from vaccine&quot;</td></tr><tr><td>&quot;B08011&quot;</td><td>&quot;B0801&quot;</td><td>&quot;Vaccinia not from vaccine&quot;</td><td>&quot;B0801&quot;</td><td>&quot;Cowpox and vaccinia not from v…</td></tr><tr><td>&hellip;</td><td>&hellip;</td><td>&hellip;</td><td>&hellip;</td><td>&hellip;</td></tr><tr><td>&quot;Z98871&quot;</td><td>&quot;Z9887&quot;</td><td>&quot;Personal history of in utero p…</td><td>&quot;Z98870&quot;</td><td>&quot;Personal history of in utero p…</td></tr><tr><td>&quot;Z9889&quot;</td><td>&quot;Z9889&quot;</td><td>&quot;Other specified postprocedural…</td><td>&quot;Z98891&quot;</td><td>&quot;History of uterine scar from p…</td></tr><tr><td>&quot;Z98890&quot;</td><td>&quot;Z9889&quot;</td><td>&quot;Other specified postprocedural…</td><td>&quot;Z98891&quot;</td><td>&quot;History of uterine scar from p…</td></tr><tr><td>&quot;Z98891&quot;</td><td>&quot;Z9889&quot;</td><td>&quot;History of uterine scar from p…</td><td>&quot;Z9889&quot;</td><td>&quot;Other specified postprocedural…</td></tr><tr><td>&quot;Z98891&quot;</td><td>&quot;Z9889&quot;</td><td>&quot;History of uterine scar from p…</td><td>&quot;Z98890&quot;</td><td>&quot;Other specified postprocedural…</td></tr></tbody></table></div>"
      ],
      "text/plain": [
       "shape: (1_893_164, 5)\n",
       "┌────────┬────────────────┬─────────────────────────────┬────────────┬─────────────────────────────┐\n",
       "│ code   ┆ up_to_location ┆ description                 ┆ code_right ┆ description_right           │\n",
       "│ ---    ┆ ---            ┆ ---                         ┆ ---        ┆ ---                         │\n",
       "│ str    ┆ str            ┆ str                         ┆ str        ┆ str                         │\n",
       "╞════════╪════════════════╪═════════════════════════════╪════════════╪═════════════════════════════╡\n",
       "│ B0801  ┆ B0801          ┆ Cowpox and vaccinia not     ┆ B08010     ┆ Cowpox                      │\n",
       "│        ┆                ┆ from v…                     ┆            ┆                             │\n",
       "│ B0801  ┆ B0801          ┆ Cowpox and vaccinia not     ┆ B08011     ┆ Vaccinia not from vaccine   │\n",
       "│        ┆                ┆ from v…                     ┆            ┆                             │\n",
       "│ B08010 ┆ B0801          ┆ Cowpox                      ┆ B0801      ┆ Cowpox and vaccinia not     │\n",
       "│        ┆                ┆                             ┆            ┆ from v…                     │\n",
       "│ B08010 ┆ B0801          ┆ Cowpox                      ┆ B08011     ┆ Vaccinia not from vaccine   │\n",
       "│ B08011 ┆ B0801          ┆ Vaccinia not from vaccine   ┆ B0801      ┆ Cowpox and vaccinia not     │\n",
       "│        ┆                ┆                             ┆            ┆ from v…                     │\n",
       "│ …      ┆ …              ┆ …                           ┆ …          ┆ …                           │\n",
       "│ Z98871 ┆ Z9887          ┆ Personal history of in      ┆ Z98870     ┆ Personal history of in      │\n",
       "│        ┆                ┆ utero p…                    ┆            ┆ utero p…                    │\n",
       "│ Z9889  ┆ Z9889          ┆ Other specified             ┆ Z98891     ┆ History of uterine scar     │\n",
       "│        ┆                ┆ postprocedural…             ┆            ┆ from p…                     │\n",
       "│ Z98890 ┆ Z9889          ┆ Other specified             ┆ Z98891     ┆ History of uterine scar     │\n",
       "│        ┆                ┆ postprocedural…             ┆            ┆ from p…                     │\n",
       "│ Z98891 ┆ Z9889          ┆ History of uterine scar     ┆ Z9889      ┆ Other specified             │\n",
       "│        ┆                ┆ from p…                     ┆            ┆ postprocedural…             │\n",
       "│ Z98891 ┆ Z9889          ┆ History of uterine scar     ┆ Z98890     ┆ Other specified             │\n",
       "│        ┆                ┆ from p…                     ┆            ┆ postprocedural…             │\n",
       "└────────┴────────────────┴─────────────────────────────┴────────────┴─────────────────────────────┘"
      ]
     },
     "execution_count": 9,
     "metadata": {},
     "output_type": "execute_result"
    }
   ],
   "source": [
    "location_cols = ['code', 'up_to_location', 'description']\n",
    "up_to_location_df = df.select(location_cols).join(\n",
    "        df.select(location_cols),\n",
    "        how='left',\n",
    "        on='up_to_location'\n",
    "    ).filter(~(pl.col('description').eq(pl.col('description_right'))))\n",
    "up_to_location_df"
   ]
  },
  {
   "cell_type": "code",
   "execution_count": null,
   "metadata": {},
   "outputs": [],
   "source": []
  },
  {
   "cell_type": "code",
   "execution_count": 1,
   "metadata": {},
   "outputs": [
    {
     "ename": "NameError",
     "evalue": "name 'pl' is not defined",
     "output_type": "error",
     "traceback": [
      "\u001b[0;31m---------------------------------------------------------------------------\u001b[0m",
      "\u001b[0;31mNameError\u001b[0m                                 Traceback (most recent call last)",
      "Cell \u001b[0;32mIn[1], line 1\u001b[0m\n\u001b[0;32m----> 1\u001b[0m df \u001b[38;5;241m=\u001b[39m \u001b[43mpl\u001b[49m\u001b[38;5;241m.\u001b[39mread_ndjson(\n\u001b[1;32m      2\u001b[0m             \u001b[38;5;124m'\u001b[39m\u001b[38;5;124m/home/gnoblit/takehome/codametrix/data/clean/train_data.ndjson\u001b[39m\u001b[38;5;124m'\u001b[39m\n\u001b[1;32m      3\u001b[0m         )\n\u001b[1;32m      4\u001b[0m df[\u001b[38;5;124m'\u001b[39m\u001b[38;5;124mup_to_laterality\u001b[39m\u001b[38;5;124m'\u001b[39m]\u001b[38;5;241m.\u001b[39mslice(\u001b[38;5;241m42448\u001b[39m, \u001b[38;5;241m5\u001b[39m)\n",
      "\u001b[0;31mNameError\u001b[0m: name 'pl' is not defined"
     ]
    }
   ],
   "source": []
  },
  {
   "cell_type": "code",
   "execution_count": 11,
   "metadata": {},
   "outputs": [
    {
     "data": {
      "text/html": [
       "<div><style>\n",
       ".dataframe > thead > tr,\n",
       ".dataframe > tbody > tr {\n",
       "  text-align: right;\n",
       "  white-space: pre-wrap;\n",
       "}\n",
       "</style>\n",
       "<small>shape: (1,)</small><table border=\"1\" class=\"dataframe\"><thead><tr><th>up_to_laterality</th></tr><tr><td>null</td></tr></thead><tbody><tr><td>null</td></tr></tbody></table></div>"
      ],
      "text/plain": [
       "shape: (1,)\n",
       "Series: 'up_to_laterality' [null]\n",
       "[\n",
       "\tnull\n",
       "]"
      ]
     },
     "execution_count": 11,
     "metadata": {},
     "output_type": "execute_result"
    }
   ],
   "source": [
    "df['up_to_laterality'].unique()"
   ]
  },
  {
   "cell_type": "code",
   "execution_count": 6,
   "metadata": {},
   "outputs": [
    {
     "data": {
      "text/html": [
       "<div><style>\n",
       ".dataframe > thead > tr,\n",
       ".dataframe > tbody > tr {\n",
       "  text-align: right;\n",
       "  white-space: pre-wrap;\n",
       "}\n",
       "</style>\n",
       "<small>shape: (0, 5)</small><table border=\"1\" class=\"dataframe\"><thead><tr><th>code</th><th>up_to_laterality</th><th>description</th><th>code_right</th><th>description_right</th></tr><tr><td>str</td><td>null</td><td>str</td><td>str</td><td>str</td></tr></thead><tbody></tbody></table></div>"
      ],
      "text/plain": [
       "shape: (0, 5)\n",
       "┌──────┬──────────────────┬─────────────┬────────────┬───────────────────┐\n",
       "│ code ┆ up_to_laterality ┆ description ┆ code_right ┆ description_right │\n",
       "│ ---  ┆ ---              ┆ ---         ┆ ---        ┆ ---               │\n",
       "│ str  ┆ null             ┆ str         ┆ str        ┆ str               │\n",
       "╞══════╪══════════════════╪═════════════╪════════════╪═══════════════════╡\n",
       "└──────┴──────────────────┴─────────────┴────────────┴───────────────────┘"
      ]
     },
     "execution_count": 6,
     "metadata": {},
     "output_type": "execute_result"
    }
   ],
   "source": [
    "laterality_cols = ['code', 'up_to_laterality', 'description']\n",
    "up_to_laterality_df = df.select(laterality_cols).join(\n",
    "        df.select(laterality_cols),\n",
    "        how='left',\n",
    "        on='up_to_laterality'\n",
    "    ).filter(~(pl.col('description').eq(pl.col('description_right'))))\n",
    "up_to_laterality_df"
   ]
  },
  {
   "cell_type": "code",
   "execution_count": 3,
   "metadata": {},
   "outputs": [
    {
     "data": {
      "text/html": [
       "<div><style>\n",
       ".dataframe > thead > tr,\n",
       ".dataframe > tbody > tr {\n",
       "  text-align: right;\n",
       "  white-space: pre-wrap;\n",
       "}\n",
       "</style>\n",
       "<small>shape: (60_485_112, 5)</small><table border=\"1\" class=\"dataframe\"><thead><tr><th>code</th><th>category</th><th>description</th><th>code_right</th><th>description_right</th></tr><tr><td>str</td><td>str</td><td>str</td><td>str</td><td>str</td></tr></thead><tbody><tr><td>&quot;A00&quot;</td><td>&quot;A00&quot;</td><td>&quot;Cholera&quot;</td><td>&quot;A000&quot;</td><td>&quot;Cholera due to Vibrio cholerae…</td></tr><tr><td>&quot;A00&quot;</td><td>&quot;A00&quot;</td><td>&quot;Cholera&quot;</td><td>&quot;A001&quot;</td><td>&quot;Cholera due to Vibrio cholerae…</td></tr><tr><td>&quot;A00&quot;</td><td>&quot;A00&quot;</td><td>&quot;Cholera&quot;</td><td>&quot;A009&quot;</td><td>&quot;Cholera, unspecified&quot;</td></tr><tr><td>&quot;A000&quot;</td><td>&quot;A00&quot;</td><td>&quot;Cholera due to Vibrio cholerae…</td><td>&quot;A00&quot;</td><td>&quot;Cholera&quot;</td></tr><tr><td>&quot;A000&quot;</td><td>&quot;A00&quot;</td><td>&quot;Cholera due to Vibrio cholerae…</td><td>&quot;A001&quot;</td><td>&quot;Cholera due to Vibrio cholerae…</td></tr><tr><td>&hellip;</td><td>&hellip;</td><td>&hellip;</td><td>&hellip;</td><td>&hellip;</td></tr><tr><td>&quot;U07&quot;</td><td>&quot;U07&quot;</td><td>&quot;Emergency use of U07&quot;</td><td>&quot;U071&quot;</td><td>&quot;COVID-19&quot;</td></tr><tr><td>&quot;U070&quot;</td><td>&quot;U07&quot;</td><td>&quot;Vaping-related disorder&quot;</td><td>&quot;U07&quot;</td><td>&quot;Emergency use of U07&quot;</td></tr><tr><td>&quot;U070&quot;</td><td>&quot;U07&quot;</td><td>&quot;Vaping-related disorder&quot;</td><td>&quot;U071&quot;</td><td>&quot;COVID-19&quot;</td></tr><tr><td>&quot;U071&quot;</td><td>&quot;U07&quot;</td><td>&quot;COVID-19&quot;</td><td>&quot;U07&quot;</td><td>&quot;Emergency use of U07&quot;</td></tr><tr><td>&quot;U071&quot;</td><td>&quot;U07&quot;</td><td>&quot;COVID-19&quot;</td><td>&quot;U070&quot;</td><td>&quot;Vaping-related disorder&quot;</td></tr></tbody></table></div>"
      ],
      "text/plain": [
       "shape: (60_485_112, 5)\n",
       "┌──────┬──────────┬─────────────────────────────────┬────────────┬─────────────────────────────────┐\n",
       "│ code ┆ category ┆ description                     ┆ code_right ┆ description_right               │\n",
       "│ ---  ┆ ---      ┆ ---                             ┆ ---        ┆ ---                             │\n",
       "│ str  ┆ str      ┆ str                             ┆ str        ┆ str                             │\n",
       "╞══════╪══════════╪═════════════════════════════════╪════════════╪═════════════════════════════════╡\n",
       "│ A00  ┆ A00      ┆ Cholera                         ┆ A000       ┆ Cholera due to Vibrio cholerae… │\n",
       "│ A00  ┆ A00      ┆ Cholera                         ┆ A001       ┆ Cholera due to Vibrio cholerae… │\n",
       "│ A00  ┆ A00      ┆ Cholera                         ┆ A009       ┆ Cholera, unspecified            │\n",
       "│ A000 ┆ A00      ┆ Cholera due to Vibrio cholerae… ┆ A00        ┆ Cholera                         │\n",
       "│ A000 ┆ A00      ┆ Cholera due to Vibrio cholerae… ┆ A001       ┆ Cholera due to Vibrio cholerae… │\n",
       "│ …    ┆ …        ┆ …                               ┆ …          ┆ …                               │\n",
       "│ U07  ┆ U07      ┆ Emergency use of U07            ┆ U071       ┆ COVID-19                        │\n",
       "│ U070 ┆ U07      ┆ Vaping-related disorder         ┆ U07        ┆ Emergency use of U07            │\n",
       "│ U070 ┆ U07      ┆ Vaping-related disorder         ┆ U071       ┆ COVID-19                        │\n",
       "│ U071 ┆ U07      ┆ COVID-19                        ┆ U07        ┆ Emergency use of U07            │\n",
       "│ U071 ┆ U07      ┆ COVID-19                        ┆ U070       ┆ Vaping-related disorder         │\n",
       "└──────┴──────────┴─────────────────────────────────┴────────────┴─────────────────────────────────┘"
      ]
     },
     "execution_count": 3,
     "metadata": {},
     "output_type": "execute_result"
    }
   ],
   "source": [
    "category_cols = ['code', 'category', 'description']\n",
    "category_df = df.select(category_cols).join(\n",
    "    df.select(category_cols),\n",
    "    how='left',\n",
    "    on='category'\n",
    ").filter(~(pl.col('description').eq(pl.col('description_right'))))\n",
    "category_df"
   ]
  },
  {
   "cell_type": "code",
   "execution_count": 4,
   "metadata": {},
   "outputs": [],
   "source": [
    "df = df.with_columns(\n",
    "    pl.col('path').str.split('-').alias('path_split')\n",
    ")\n",
    "df = df.with_columns(\n",
    "    pl.col('path_split')[:-1]\n",
    ")"
   ]
  },
  {
   "cell_type": "code",
   "execution_count": 5,
   "metadata": {},
   "outputs": [
    {
     "data": {
      "text/html": [
       "<div><style>\n",
       ".dataframe > thead > tr,\n",
       ".dataframe > tbody > tr {\n",
       "  text-align: right;\n",
       "  white-space: pre-wrap;\n",
       "}\n",
       "</style>\n",
       "<small>shape: (5, 13)</small><table border=\"1\" class=\"dataframe\"><thead><tr><th>path</th><th>code</th><th>category</th><th>details</th><th>section</th><th>part</th><th>root_operation</th><th>etiology</th><th>location</th><th>laterality</th><th>extension</th><th>description</th><th>path_split</th></tr><tr><td>str</td><td>str</td><td>str</td><td>i64</td><td>str</td><td>i64</td><td>i64</td><td>i64</td><td>i64</td><td>i64</td><td>str</td><td>str</td><td>list[str]</td></tr></thead><tbody><tr><td>&quot;A-A00&quot;</td><td>&quot;A00&quot;</td><td>&quot;A00&quot;</td><td>null</td><td>&quot;A&quot;</td><td>0</td><td>0</td><td>null</td><td>null</td><td>null</td><td>null</td><td>&quot;Cholera&quot;</td><td>[&quot;A&quot;, &quot;A00&quot;]</td></tr><tr><td>&quot;A-A00-A000&quot;</td><td>&quot;A000&quot;</td><td>&quot;A00&quot;</td><td>0</td><td>&quot;A&quot;</td><td>0</td><td>0</td><td>0</td><td>null</td><td>null</td><td>null</td><td>&quot;Cholera due to Vibrio cholerae…</td><td>[&quot;A&quot;, &quot;A00&quot;, &quot;A000&quot;]</td></tr><tr><td>&quot;A-A00-A001&quot;</td><td>&quot;A001&quot;</td><td>&quot;A00&quot;</td><td>1</td><td>&quot;A&quot;</td><td>0</td><td>0</td><td>1</td><td>null</td><td>null</td><td>null</td><td>&quot;Cholera due to Vibrio cholerae…</td><td>[&quot;A&quot;, &quot;A00&quot;, &quot;A001&quot;]</td></tr><tr><td>&quot;A-A00-A009&quot;</td><td>&quot;A009&quot;</td><td>&quot;A00&quot;</td><td>9</td><td>&quot;A&quot;</td><td>0</td><td>0</td><td>9</td><td>null</td><td>null</td><td>null</td><td>&quot;Cholera, unspecified&quot;</td><td>[&quot;A&quot;, &quot;A00&quot;, &quot;A009&quot;]</td></tr><tr><td>&quot;A-A01&quot;</td><td>&quot;A01&quot;</td><td>&quot;A01&quot;</td><td>null</td><td>&quot;A&quot;</td><td>0</td><td>1</td><td>null</td><td>null</td><td>null</td><td>null</td><td>&quot;Typhoid and paratyphoid fevers&quot;</td><td>[&quot;A&quot;, &quot;A01&quot;]</td></tr></tbody></table></div>"
      ],
      "text/plain": [
       "shape: (5, 13)\n",
       "┌────────────┬──────┬──────────┬─────────┬───┬────────────┬───────────┬──────────────┬─────────────┐\n",
       "│ path       ┆ code ┆ category ┆ details ┆ … ┆ laterality ┆ extension ┆ description  ┆ path_split  │\n",
       "│ ---        ┆ ---  ┆ ---      ┆ ---     ┆   ┆ ---        ┆ ---       ┆ ---          ┆ ---         │\n",
       "│ str        ┆ str  ┆ str      ┆ i64     ┆   ┆ i64        ┆ str       ┆ str          ┆ list[str]   │\n",
       "╞════════════╪══════╪══════════╪═════════╪═══╪════════════╪═══════════╪══════════════╪═════════════╡\n",
       "│ A-A00      ┆ A00  ┆ A00      ┆ null    ┆ … ┆ null       ┆ null      ┆ Cholera      ┆ [\"A\",       │\n",
       "│            ┆      ┆          ┆         ┆   ┆            ┆           ┆              ┆ \"A00\"]      │\n",
       "│ A-A00-A000 ┆ A000 ┆ A00      ┆ 0       ┆ … ┆ null       ┆ null      ┆ Cholera due  ┆ [\"A\",       │\n",
       "│            ┆      ┆          ┆         ┆   ┆            ┆           ┆ to Vibrio    ┆ \"A00\",      │\n",
       "│            ┆      ┆          ┆         ┆   ┆            ┆           ┆ cholerae…    ┆ \"A000\"]     │\n",
       "│ A-A00-A001 ┆ A001 ┆ A00      ┆ 1       ┆ … ┆ null       ┆ null      ┆ Cholera due  ┆ [\"A\",       │\n",
       "│            ┆      ┆          ┆         ┆   ┆            ┆           ┆ to Vibrio    ┆ \"A00\",      │\n",
       "│            ┆      ┆          ┆         ┆   ┆            ┆           ┆ cholerae…    ┆ \"A001\"]     │\n",
       "│ A-A00-A009 ┆ A009 ┆ A00      ┆ 9       ┆ … ┆ null       ┆ null      ┆ Cholera,     ┆ [\"A\",       │\n",
       "│            ┆      ┆          ┆         ┆   ┆            ┆           ┆ unspecified  ┆ \"A00\",      │\n",
       "│            ┆      ┆          ┆         ┆   ┆            ┆           ┆              ┆ \"A009\"]     │\n",
       "│ A-A01      ┆ A01  ┆ A01      ┆ null    ┆ … ┆ null       ┆ null      ┆ Typhoid and  ┆ [\"A\",       │\n",
       "│            ┆      ┆          ┆         ┆   ┆            ┆           ┆ paratyphoid  ┆ \"A01\"]      │\n",
       "│            ┆      ┆          ┆         ┆   ┆            ┆           ┆ fevers       ┆             │\n",
       "└────────────┴──────┴──────────┴─────────┴───┴────────────┴───────────┴──────────────┴─────────────┘"
      ]
     },
     "execution_count": 5,
     "metadata": {},
     "output_type": "execute_result"
    }
   ],
   "source": [
    "df.h"
   ]
  },
  {
   "cell_type": "code",
   "execution_count": 8,
   "metadata": {},
   "outputs": [
    {
     "data": {
      "text/html": [
       "<div><style>\n",
       ".dataframe > thead > tr,\n",
       ".dataframe > tbody > tr {\n",
       "  text-align: right;\n",
       "  white-space: pre-wrap;\n",
       "}\n",
       "</style>\n",
       "<small>shape: (95_358, 3)</small><table border=\"1\" class=\"dataframe\"><thead><tr><th>code</th><th>category</th><th>description</th></tr><tr><td>str</td><td>str</td><td>str</td></tr></thead><tbody><tr><td>&quot;A00&quot;</td><td>&quot;A00&quot;</td><td>&quot;Cholera&quot;</td></tr><tr><td>&quot;A000&quot;</td><td>&quot;A00&quot;</td><td>&quot;Cholera due to Vibrio cholerae…</td></tr><tr><td>&quot;A001&quot;</td><td>&quot;A00&quot;</td><td>&quot;Cholera due to Vibrio cholerae…</td></tr><tr><td>&quot;A009&quot;</td><td>&quot;A00&quot;</td><td>&quot;Cholera, unspecified&quot;</td></tr><tr><td>&quot;A01&quot;</td><td>&quot;A01&quot;</td><td>&quot;Typhoid and paratyphoid fevers&quot;</td></tr><tr><td>&hellip;</td><td>&hellip;</td><td>&hellip;</td></tr><tr><td>&quot;Z9981&quot;</td><td>&quot;Z99&quot;</td><td>&quot;Dependence on supplemental oxy…</td></tr><tr><td>&quot;Z9989&quot;</td><td>&quot;Z99&quot;</td><td>&quot;Dependence on other enabling m…</td></tr><tr><td>&quot;U07&quot;</td><td>&quot;U07&quot;</td><td>&quot;Emergency use of U07&quot;</td></tr><tr><td>&quot;U070&quot;</td><td>&quot;U07&quot;</td><td>&quot;Vaping-related disorder&quot;</td></tr><tr><td>&quot;U071&quot;</td><td>&quot;U07&quot;</td><td>&quot;COVID-19&quot;</td></tr></tbody></table></div>"
      ],
      "text/plain": [
       "shape: (95_358, 3)\n",
       "┌───────┬──────────┬─────────────────────────────────┐\n",
       "│ code  ┆ category ┆ description                     │\n",
       "│ ---   ┆ ---      ┆ ---                             │\n",
       "│ str   ┆ str      ┆ str                             │\n",
       "╞═══════╪══════════╪═════════════════════════════════╡\n",
       "│ A00   ┆ A00      ┆ Cholera                         │\n",
       "│ A000  ┆ A00      ┆ Cholera due to Vibrio cholerae… │\n",
       "│ A001  ┆ A00      ┆ Cholera due to Vibrio cholerae… │\n",
       "│ A009  ┆ A00      ┆ Cholera, unspecified            │\n",
       "│ A01   ┆ A01      ┆ Typhoid and paratyphoid fevers  │\n",
       "│ …     ┆ …        ┆ …                               │\n",
       "│ Z9981 ┆ Z99      ┆ Dependence on supplemental oxy… │\n",
       "│ Z9989 ┆ Z99      ┆ Dependence on other enabling m… │\n",
       "│ U07   ┆ U07      ┆ Emergency use of U07            │\n",
       "│ U070  ┆ U07      ┆ Vaping-related disorder         │\n",
       "│ U071  ┆ U07      ┆ COVID-19                        │\n",
       "└───────┴──────────┴─────────────────────────────────┘"
      ]
     },
     "execution_count": 8,
     "metadata": {},
     "output_type": "execute_result"
    }
   ],
   "source": [
    "df.select(['code', 'category', 'description'])"
   ]
  },
  {
   "cell_type": "code",
   "execution_count": 10,
   "metadata": {},
   "outputs": [
    {
     "data": {
      "text/html": [
       "<div><style>\n",
       ".dataframe > thead > tr,\n",
       ".dataframe > tbody > tr {\n",
       "  text-align: right;\n",
       "  white-space: pre-wrap;\n",
       "}\n",
       "</style>\n",
       "<small>shape: (60_581_898, 5)</small><table border=\"1\" class=\"dataframe\"><thead><tr><th>code</th><th>category</th><th>description</th><th>code_right</th><th>description_right</th></tr><tr><td>str</td><td>str</td><td>str</td><td>str</td><td>str</td></tr></thead><tbody><tr><td>&quot;A00&quot;</td><td>&quot;A00&quot;</td><td>&quot;Cholera&quot;</td><td>&quot;A00&quot;</td><td>&quot;Cholera&quot;</td></tr><tr><td>&quot;A00&quot;</td><td>&quot;A00&quot;</td><td>&quot;Cholera&quot;</td><td>&quot;A000&quot;</td><td>&quot;Cholera due to Vibrio cholerae…</td></tr><tr><td>&quot;A00&quot;</td><td>&quot;A00&quot;</td><td>&quot;Cholera&quot;</td><td>&quot;A001&quot;</td><td>&quot;Cholera due to Vibrio cholerae…</td></tr><tr><td>&quot;A00&quot;</td><td>&quot;A00&quot;</td><td>&quot;Cholera&quot;</td><td>&quot;A009&quot;</td><td>&quot;Cholera, unspecified&quot;</td></tr><tr><td>&quot;A000&quot;</td><td>&quot;A00&quot;</td><td>&quot;Cholera due to Vibrio cholerae…</td><td>&quot;A00&quot;</td><td>&quot;Cholera&quot;</td></tr><tr><td>&hellip;</td><td>&hellip;</td><td>&hellip;</td><td>&hellip;</td><td>&hellip;</td></tr><tr><td>&quot;U070&quot;</td><td>&quot;U07&quot;</td><td>&quot;Vaping-related disorder&quot;</td><td>&quot;U070&quot;</td><td>&quot;Vaping-related disorder&quot;</td></tr><tr><td>&quot;U070&quot;</td><td>&quot;U07&quot;</td><td>&quot;Vaping-related disorder&quot;</td><td>&quot;U071&quot;</td><td>&quot;COVID-19&quot;</td></tr><tr><td>&quot;U071&quot;</td><td>&quot;U07&quot;</td><td>&quot;COVID-19&quot;</td><td>&quot;U07&quot;</td><td>&quot;Emergency use of U07&quot;</td></tr><tr><td>&quot;U071&quot;</td><td>&quot;U07&quot;</td><td>&quot;COVID-19&quot;</td><td>&quot;U070&quot;</td><td>&quot;Vaping-related disorder&quot;</td></tr><tr><td>&quot;U071&quot;</td><td>&quot;U07&quot;</td><td>&quot;COVID-19&quot;</td><td>&quot;U071&quot;</td><td>&quot;COVID-19&quot;</td></tr></tbody></table></div>"
      ],
      "text/plain": [
       "shape: (60_581_898, 5)\n",
       "┌──────┬──────────┬─────────────────────────────────┬────────────┬─────────────────────────────────┐\n",
       "│ code ┆ category ┆ description                     ┆ code_right ┆ description_right               │\n",
       "│ ---  ┆ ---      ┆ ---                             ┆ ---        ┆ ---                             │\n",
       "│ str  ┆ str      ┆ str                             ┆ str        ┆ str                             │\n",
       "╞══════╪══════════╪═════════════════════════════════╪════════════╪═════════════════════════════════╡\n",
       "│ A00  ┆ A00      ┆ Cholera                         ┆ A00        ┆ Cholera                         │\n",
       "│ A00  ┆ A00      ┆ Cholera                         ┆ A000       ┆ Cholera due to Vibrio cholerae… │\n",
       "│ A00  ┆ A00      ┆ Cholera                         ┆ A001       ┆ Cholera due to Vibrio cholerae… │\n",
       "│ A00  ┆ A00      ┆ Cholera                         ┆ A009       ┆ Cholera, unspecified            │\n",
       "│ A000 ┆ A00      ┆ Cholera due to Vibrio cholerae… ┆ A00        ┆ Cholera                         │\n",
       "│ …    ┆ …        ┆ …                               ┆ …          ┆ …                               │\n",
       "│ U070 ┆ U07      ┆ Vaping-related disorder         ┆ U070       ┆ Vaping-related disorder         │\n",
       "│ U070 ┆ U07      ┆ Vaping-related disorder         ┆ U071       ┆ COVID-19                        │\n",
       "│ U071 ┆ U07      ┆ COVID-19                        ┆ U07        ┆ Emergency use of U07            │\n",
       "│ U071 ┆ U07      ┆ COVID-19                        ┆ U070       ┆ Vaping-related disorder         │\n",
       "│ U071 ┆ U07      ┆ COVID-19                        ┆ U071       ┆ COVID-19                        │\n",
       "└──────┴──────────┴─────────────────────────────────┴────────────┴─────────────────────────────────┘"
      ]
     },
     "execution_count": 10,
     "metadata": {},
     "output_type": "execute_result"
    }
   ],
   "source": [
    "df.select(['code', 'category', 'description']).join(\n",
    "    df.select(['code', 'category', 'description']),\n",
    "    how='left',\n",
    "    on='category'\n",
    ")"
   ]
  },
  {
   "cell_type": "code",
   "execution_count": 126,
   "metadata": {},
   "outputs": [
    {
     "data": {
      "text/plain": [
       "['Retained foreign body fragments, unspecified material']"
      ]
     },
     "execution_count": 126,
     "metadata": {},
     "output_type": "execute_result"
    }
   ],
   "source": [
    "df.filter(pl.col('code')=='Z189')['description'].to_list()"
   ]
  },
  {
   "cell_type": "code",
   "execution_count": null,
   "metadata": {},
   "outputs": [],
   "source": []
  }
 ],
 "metadata": {
  "kernelspec": {
   "display_name": "codametrix_venv",
   "language": "python",
   "name": "python3"
  },
  "language_info": {
   "codemirror_mode": {
    "name": "ipython",
    "version": 3
   },
   "file_extension": ".py",
   "mimetype": "text/x-python",
   "name": "python",
   "nbconvert_exporter": "python",
   "pygments_lexer": "ipython3",
   "version": "3.10.12"
  }
 },
 "nbformat": 4,
 "nbformat_minor": 2
}
